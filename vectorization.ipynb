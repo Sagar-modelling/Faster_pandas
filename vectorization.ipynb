{
 "cells": [
  {
   "cell_type": "code",
   "execution_count": 2,
   "id": "cce70f4f",
   "metadata": {},
   "outputs": [],
   "source": [
    "import pandas as pd\n",
    "import numpy as np\n",
    "import sqlite3\n",
    "from datetime import datetime\n",
    "import warnings\n",
    "warnings.filterwarnings(\"ignore\")"
   ]
  },
  {
   "cell_type": "code",
   "execution_count": 3,
   "id": "212fe54f",
   "metadata": {},
   "outputs": [
    {
     "data": {
      "text/html": [
       "<div>\n",
       "<style scoped>\n",
       "    .dataframe tbody tr th:only-of-type {\n",
       "        vertical-align: middle;\n",
       "    }\n",
       "\n",
       "    .dataframe tbody tr th {\n",
       "        vertical-align: top;\n",
       "    }\n",
       "\n",
       "    .dataframe thead th {\n",
       "        text-align: right;\n",
       "    }\n",
       "</style>\n",
       "<table border=\"1\" class=\"dataframe\">\n",
       "  <thead>\n",
       "    <tr style=\"text-align: right;\">\n",
       "      <th></th>\n",
       "      <th>Customer</th>\n",
       "      <th>Item</th>\n",
       "      <th>Amount</th>\n",
       "      <th>Item Price</th>\n",
       "    </tr>\n",
       "  </thead>\n",
       "  <tbody>\n",
       "    <tr>\n",
       "      <th>0</th>\n",
       "      <td>Rick</td>\n",
       "      <td>Wine</td>\n",
       "      <td>20</td>\n",
       "      <td>103.20</td>\n",
       "    </tr>\n",
       "    <tr>\n",
       "      <th>1</th>\n",
       "      <td>Morty</td>\n",
       "      <td>Almond Milk</td>\n",
       "      <td>1</td>\n",
       "      <td>10.04</td>\n",
       "    </tr>\n",
       "    <tr>\n",
       "      <th>2</th>\n",
       "      <td>Summer</td>\n",
       "      <td>Ice Cream</td>\n",
       "      <td>1</td>\n",
       "      <td>8.32</td>\n",
       "    </tr>\n",
       "    <tr>\n",
       "      <th>3</th>\n",
       "      <td>Beth</td>\n",
       "      <td>Comb</td>\n",
       "      <td>1</td>\n",
       "      <td>7.30</td>\n",
       "    </tr>\n",
       "    <tr>\n",
       "      <th>4</th>\n",
       "      <td>Jerry</td>\n",
       "      <td>Tequila</td>\n",
       "      <td>2</td>\n",
       "      <td>20.34</td>\n",
       "    </tr>\n",
       "  </tbody>\n",
       "</table>\n",
       "</div>"
      ],
      "text/plain": [
       "  Customer         Item  Amount  Item Price\n",
       "0     Rick         Wine      20      103.20\n",
       "1    Morty  Almond Milk       1       10.04\n",
       "2   Summer    Ice Cream       1        8.32\n",
       "3     Beth         Comb       1        7.30\n",
       "4    Jerry      Tequila       2       20.34"
      ]
     },
     "execution_count": 3,
     "metadata": {},
     "output_type": "execute_result"
    }
   ],
   "source": [
    "df = pd.read_csv('https://raw.githubusercontent.com/LinkedInLearning/faster-pandas-2832038/main/Ch02/02_02/cart.csv')\n",
    "df"
   ]
  },
  {
   "cell_type": "code",
   "execution_count": 6,
   "id": "765bfa75",
   "metadata": {},
   "outputs": [],
   "source": [
    "mask = df['Item Price'] > 10"
   ]
  },
  {
   "cell_type": "code",
   "execution_count": 8,
   "id": "edebd31f",
   "metadata": {},
   "outputs": [
    {
     "data": {
      "text/html": [
       "<div>\n",
       "<style scoped>\n",
       "    .dataframe tbody tr th:only-of-type {\n",
       "        vertical-align: middle;\n",
       "    }\n",
       "\n",
       "    .dataframe tbody tr th {\n",
       "        vertical-align: top;\n",
       "    }\n",
       "\n",
       "    .dataframe thead th {\n",
       "        text-align: right;\n",
       "    }\n",
       "</style>\n",
       "<table border=\"1\" class=\"dataframe\">\n",
       "  <thead>\n",
       "    <tr style=\"text-align: right;\">\n",
       "      <th></th>\n",
       "      <th>Customer</th>\n",
       "      <th>Item</th>\n",
       "      <th>Amount</th>\n",
       "      <th>Item Price</th>\n",
       "    </tr>\n",
       "  </thead>\n",
       "  <tbody>\n",
       "    <tr>\n",
       "      <th>0</th>\n",
       "      <td>Rick</td>\n",
       "      <td>Wine</td>\n",
       "      <td>20</td>\n",
       "      <td>103.20</td>\n",
       "    </tr>\n",
       "    <tr>\n",
       "      <th>1</th>\n",
       "      <td>Morty</td>\n",
       "      <td>Almond Milk</td>\n",
       "      <td>1</td>\n",
       "      <td>10.04</td>\n",
       "    </tr>\n",
       "    <tr>\n",
       "      <th>4</th>\n",
       "      <td>Jerry</td>\n",
       "      <td>Tequila</td>\n",
       "      <td>2</td>\n",
       "      <td>20.34</td>\n",
       "    </tr>\n",
       "  </tbody>\n",
       "</table>\n",
       "</div>"
      ],
      "text/plain": [
       "  Customer         Item  Amount  Item Price\n",
       "0     Rick         Wine      20      103.20\n",
       "1    Morty  Almond Milk       1       10.04\n",
       "4    Jerry      Tequila       2       20.34"
      ]
     },
     "execution_count": 8,
     "metadata": {},
     "output_type": "execute_result"
    }
   ],
   "source": [
    "df[mask]"
   ]
  },
  {
   "cell_type": "code",
   "execution_count": 11,
   "id": "013ec21a",
   "metadata": {},
   "outputs": [],
   "source": [
    "conn = sqlite3.connect('logs.db', detect_types=sqlite3.PARSE_DECLTYPES)\n",
    "sql1 = 'SELECT * FROM logs'"
   ]
  },
  {
   "cell_type": "code",
   "execution_count": 12,
   "id": "22f83312",
   "metadata": {},
   "outputs": [
    {
     "data": {
      "text/html": [
       "<div>\n",
       "<style scoped>\n",
       "    .dataframe tbody tr th:only-of-type {\n",
       "        vertical-align: middle;\n",
       "    }\n",
       "\n",
       "    .dataframe tbody tr th {\n",
       "        vertical-align: top;\n",
       "    }\n",
       "\n",
       "    .dataframe thead th {\n",
       "        text-align: right;\n",
       "    }\n",
       "</style>\n",
       "<table border=\"1\" class=\"dataframe\">\n",
       "  <thead>\n",
       "    <tr style=\"text-align: right;\">\n",
       "      <th></th>\n",
       "      <th>time</th>\n",
       "      <th>origin</th>\n",
       "      <th>method</th>\n",
       "      <th>path</th>\n",
       "      <th>status_code</th>\n",
       "      <th>size</th>\n",
       "    </tr>\n",
       "  </thead>\n",
       "  <tbody>\n",
       "    <tr>\n",
       "      <th>0</th>\n",
       "      <td>1995-08-01 00:00:01</td>\n",
       "      <td>in24.inetnebr.com</td>\n",
       "      <td>GET</td>\n",
       "      <td>/shuttle/missions/sts-68/news/sts-68-mcc-05.txt</td>\n",
       "      <td>200</td>\n",
       "      <td>1839</td>\n",
       "    </tr>\n",
       "    <tr>\n",
       "      <th>1</th>\n",
       "      <td>1995-08-01 00:00:07</td>\n",
       "      <td>uplherc.upl.com</td>\n",
       "      <td>GET</td>\n",
       "      <td>/</td>\n",
       "      <td>304</td>\n",
       "      <td>0</td>\n",
       "    </tr>\n",
       "    <tr>\n",
       "      <th>2</th>\n",
       "      <td>1995-08-01 00:00:08</td>\n",
       "      <td>uplherc.upl.com</td>\n",
       "      <td>GET</td>\n",
       "      <td>/images/ksclogo-medium.gif</td>\n",
       "      <td>304</td>\n",
       "      <td>0</td>\n",
       "    </tr>\n",
       "    <tr>\n",
       "      <th>3</th>\n",
       "      <td>1995-08-01 00:00:08</td>\n",
       "      <td>uplherc.upl.com</td>\n",
       "      <td>GET</td>\n",
       "      <td>/images/MOSAIC-logosmall.gif</td>\n",
       "      <td>304</td>\n",
       "      <td>0</td>\n",
       "    </tr>\n",
       "    <tr>\n",
       "      <th>4</th>\n",
       "      <td>1995-08-01 00:00:08</td>\n",
       "      <td>uplherc.upl.com</td>\n",
       "      <td>GET</td>\n",
       "      <td>/images/USA-logosmall.gif</td>\n",
       "      <td>304</td>\n",
       "      <td>0</td>\n",
       "    </tr>\n",
       "    <tr>\n",
       "      <th>...</th>\n",
       "      <td>...</td>\n",
       "      <td>...</td>\n",
       "      <td>...</td>\n",
       "      <td>...</td>\n",
       "      <td>...</td>\n",
       "      <td>...</td>\n",
       "    </tr>\n",
       "    <tr>\n",
       "      <th>9995</th>\n",
       "      <td>1995-08-01 07:54:40</td>\n",
       "      <td>ppp-14.flashnet.it</td>\n",
       "      <td>GET</td>\n",
       "      <td>/images/USA-logosmall.gif</td>\n",
       "      <td>200</td>\n",
       "      <td>234</td>\n",
       "    </tr>\n",
       "    <tr>\n",
       "      <th>9996</th>\n",
       "      <td>1995-08-01 07:54:41</td>\n",
       "      <td>204.238.216.51</td>\n",
       "      <td>GET</td>\n",
       "      <td>/images/ksclogo-medium.gif</td>\n",
       "      <td>304</td>\n",
       "      <td>0</td>\n",
       "    </tr>\n",
       "    <tr>\n",
       "      <th>9997</th>\n",
       "      <td>1995-08-01 07:54:42</td>\n",
       "      <td>204.238.216.51</td>\n",
       "      <td>GET</td>\n",
       "      <td>/images/USA-logosmall.gif</td>\n",
       "      <td>304</td>\n",
       "      <td>0</td>\n",
       "    </tr>\n",
       "    <tr>\n",
       "      <th>9998</th>\n",
       "      <td>1995-08-01 07:54:42</td>\n",
       "      <td>204.238.216.51</td>\n",
       "      <td>GET</td>\n",
       "      <td>/images/MOSAIC-logosmall.gif</td>\n",
       "      <td>304</td>\n",
       "      <td>0</td>\n",
       "    </tr>\n",
       "    <tr>\n",
       "      <th>9999</th>\n",
       "      <td>1995-08-01 07:54:42</td>\n",
       "      <td>204.238.216.51</td>\n",
       "      <td>GET</td>\n",
       "      <td>/images/NASA-logosmall.gif</td>\n",
       "      <td>304</td>\n",
       "      <td>0</td>\n",
       "    </tr>\n",
       "  </tbody>\n",
       "</table>\n",
       "<p>10000 rows × 6 columns</p>\n",
       "</div>"
      ],
      "text/plain": [
       "                    time              origin method  \\\n",
       "0    1995-08-01 00:00:01   in24.inetnebr.com    GET   \n",
       "1    1995-08-01 00:00:07     uplherc.upl.com    GET   \n",
       "2    1995-08-01 00:00:08     uplherc.upl.com    GET   \n",
       "3    1995-08-01 00:00:08     uplherc.upl.com    GET   \n",
       "4    1995-08-01 00:00:08     uplherc.upl.com    GET   \n",
       "...                  ...                 ...    ...   \n",
       "9995 1995-08-01 07:54:40  ppp-14.flashnet.it    GET   \n",
       "9996 1995-08-01 07:54:41      204.238.216.51    GET   \n",
       "9997 1995-08-01 07:54:42      204.238.216.51    GET   \n",
       "9998 1995-08-01 07:54:42      204.238.216.51    GET   \n",
       "9999 1995-08-01 07:54:42      204.238.216.51    GET   \n",
       "\n",
       "                                                 path  status_code  size  \n",
       "0     /shuttle/missions/sts-68/news/sts-68-mcc-05.txt          200  1839  \n",
       "1                                                   /          304     0  \n",
       "2                          /images/ksclogo-medium.gif          304     0  \n",
       "3                        /images/MOSAIC-logosmall.gif          304     0  \n",
       "4                           /images/USA-logosmall.gif          304     0  \n",
       "...                                               ...          ...   ...  \n",
       "9995                        /images/USA-logosmall.gif          200   234  \n",
       "9996                       /images/ksclogo-medium.gif          304     0  \n",
       "9997                        /images/USA-logosmall.gif          304     0  \n",
       "9998                     /images/MOSAIC-logosmall.gif          304     0  \n",
       "9999                       /images/NASA-logosmall.gif          304     0  \n",
       "\n",
       "[10000 rows x 6 columns]"
      ]
     },
     "execution_count": 12,
     "metadata": {},
     "output_type": "execute_result"
    }
   ],
   "source": [
    "dff = pd.read_sql(sql1, conn)\n",
    "dff"
   ]
  },
  {
   "cell_type": "code",
   "execution_count": 16,
   "id": "b581fa64",
   "metadata": {},
   "outputs": [
    {
     "name": "stdout",
     "output_type": "stream",
     "text": [
      "2.77 s ± 459 ms per loop (mean ± std. dev. of 7 runs, 1 loop each)\n"
     ]
    }
   ],
   "source": [
    "%%timeit\n",
    "tot = 0\n",
    "for x,row in dff.iterrows():\n",
    "    if row['status_code'] >=400:\n",
    "        tot+= 1\n"
   ]
  },
  {
   "cell_type": "code",
   "execution_count": 17,
   "id": "3028b8bb",
   "metadata": {},
   "outputs": [
    {
     "name": "stdout",
     "output_type": "stream",
     "text": [
      "1.27 ms ± 319 µs per loop (mean ± std. dev. of 7 runs, 1,000 loops each)\n"
     ]
    }
   ],
   "source": [
    "%timeit dff[dff['status_code'] >=400] #boolean indexing"
   ]
  },
  {
   "attachments": {},
   "cell_type": "markdown",
   "id": "96e19f6d",
   "metadata": {},
   "source": [
    "## Universal Functions"
   ]
  },
  {
   "cell_type": "code",
   "execution_count": 19,
   "id": "652eb7dd",
   "metadata": {},
   "outputs": [
    {
     "name": "stdout",
     "output_type": "stream",
     "text": [
      "283 µs ± 69.9 µs per loop (mean ± std. dev. of 7 runs, 1,000 loops each)\n"
     ]
    }
   ],
   "source": [
    "s =pd.Series(range(1000))\n",
    "%timeit max(s)"
   ]
  },
  {
   "cell_type": "code",
   "execution_count": 20,
   "id": "c0f7770c",
   "metadata": {},
   "outputs": [
    {
     "name": "stdout",
     "output_type": "stream",
     "text": [
      "108 µs ± 20.6 µs per loop (mean ± std. dev. of 7 runs, 10,000 loops each)\n"
     ]
    }
   ],
   "source": [
    "%timeit s.max() #pandas max function faster"
   ]
  },
  {
   "attachments": {},
   "cell_type": "markdown",
   "id": "0b75e6b8",
   "metadata": {},
   "source": [
    "## limitations of appending"
   ]
  },
  {
   "cell_type": "code",
   "execution_count": 2,
   "id": "b42dc8ed",
   "metadata": {},
   "outputs": [],
   "source": [
    "def parse_time(ts):\n",
    "    # [02/Jul/1995:16:30:08 -0400] for converting string time to datetime format\n",
    "    time = datetime.strptime(ts, '[%d/%b/%Y:%H:%M:%S %z]')\n",
    "    return time.replace(tzinfo=None)  # Remove time zone\n",
    "\n",
    "def parse_line(line): #for parsing the line\n",
    "    fields = line.split()\n",
    "    size = 0 if fields[-1] == '-' else int(fields[-1])\n",
    "    return {\n",
    "        'origin': fields[0],\n",
    "        'time': parse_time(fields[3] + ' ' + fields[4]),\n",
    "        'method': fields[5][1:],  # Remove leading \"\n",
    "        'path': fields[6],\n",
    "        'status_code': int(fields[-2]),\n",
    "        'size': size,\n",
    "    }"
   ]
  },
  {
   "cell_type": "code",
   "execution_count": 23,
   "id": "3323660d",
   "metadata": {},
   "outputs": [],
   "source": [
    "with open (\"log.txt\", \"r\") as fp:\n",
    "    lines = fp.readlines()"
   ]
  },
  {
   "cell_type": "code",
   "execution_count": 27,
   "id": "6d2183ce",
   "metadata": {},
   "outputs": [
    {
     "name": "stdout",
     "output_type": "stream",
     "text": [
      "1.82 s ± 14.1 ms per loop (mean ± std. dev. of 7 runs, 1 loop each)\n"
     ]
    }
   ],
   "source": [
    "%%timeit\n",
    "df = pd.DataFrame()\n",
    "for line in lines:\n",
    "    df = df.append(parse_line(line), ignore_index= True)"
   ]
  },
  {
   "cell_type": "code",
   "execution_count": 29,
   "id": "360ff57b",
   "metadata": {},
   "outputs": [
    {
     "name": "stdout",
     "output_type": "stream",
     "text": [
      "25.8 ms ± 707 µs per loop (mean ± std. dev. of 7 runs, 10 loops each)\n"
     ]
    }
   ],
   "source": [
    "# Dataframes are slow with append, python lists are very fast.\n",
    "# from records to convert DataFrame to a NumPy record array\n",
    "%timeit df = pd.DataFrame.from_records(parse_line(line) for line in lines) "
   ]
  },
  {
   "cell_type": "code",
   "execution_count": 31,
   "id": "fab7ff2a",
   "metadata": {},
   "outputs": [
    {
     "data": {
      "text/html": [
       "<div>\n",
       "<style scoped>\n",
       "    .dataframe tbody tr th:only-of-type {\n",
       "        vertical-align: middle;\n",
       "    }\n",
       "\n",
       "    .dataframe tbody tr th {\n",
       "        vertical-align: top;\n",
       "    }\n",
       "\n",
       "    .dataframe thead th {\n",
       "        text-align: right;\n",
       "    }\n",
       "</style>\n",
       "<table border=\"1\" class=\"dataframe\">\n",
       "  <thead>\n",
       "    <tr style=\"text-align: right;\">\n",
       "      <th></th>\n",
       "      <th>origin</th>\n",
       "      <th>time</th>\n",
       "      <th>method</th>\n",
       "      <th>path</th>\n",
       "      <th>status_code</th>\n",
       "      <th>size</th>\n",
       "    </tr>\n",
       "  </thead>\n",
       "  <tbody>\n",
       "    <tr>\n",
       "      <th>0</th>\n",
       "      <td>in24.inetnebr.com</td>\n",
       "      <td>1995-08-01 00:00:01</td>\n",
       "      <td>GET</td>\n",
       "      <td>/shuttle/missions/sts-68/news/sts-68-mcc-05.txt</td>\n",
       "      <td>200</td>\n",
       "      <td>1839</td>\n",
       "    </tr>\n",
       "    <tr>\n",
       "      <th>1</th>\n",
       "      <td>uplherc.upl.com</td>\n",
       "      <td>1995-08-01 00:00:07</td>\n",
       "      <td>GET</td>\n",
       "      <td>/</td>\n",
       "      <td>304</td>\n",
       "      <td>0</td>\n",
       "    </tr>\n",
       "    <tr>\n",
       "      <th>2</th>\n",
       "      <td>uplherc.upl.com</td>\n",
       "      <td>1995-08-01 00:00:08</td>\n",
       "      <td>GET</td>\n",
       "      <td>/images/ksclogo-medium.gif</td>\n",
       "      <td>304</td>\n",
       "      <td>0</td>\n",
       "    </tr>\n",
       "    <tr>\n",
       "      <th>3</th>\n",
       "      <td>uplherc.upl.com</td>\n",
       "      <td>1995-08-01 00:00:08</td>\n",
       "      <td>GET</td>\n",
       "      <td>/images/MOSAIC-logosmall.gif</td>\n",
       "      <td>304</td>\n",
       "      <td>0</td>\n",
       "    </tr>\n",
       "    <tr>\n",
       "      <th>4</th>\n",
       "      <td>uplherc.upl.com</td>\n",
       "      <td>1995-08-01 00:00:08</td>\n",
       "      <td>GET</td>\n",
       "      <td>/images/USA-logosmall.gif</td>\n",
       "      <td>304</td>\n",
       "      <td>0</td>\n",
       "    </tr>\n",
       "    <tr>\n",
       "      <th>...</th>\n",
       "      <td>...</td>\n",
       "      <td>...</td>\n",
       "      <td>...</td>\n",
       "      <td>...</td>\n",
       "      <td>...</td>\n",
       "      <td>...</td>\n",
       "    </tr>\n",
       "    <tr>\n",
       "      <th>995</th>\n",
       "      <td>www-d1.proxy.aol.com</td>\n",
       "      <td>1995-08-01 00:36:25</td>\n",
       "      <td>GET</td>\n",
       "      <td>/elv/vidpicp.htm</td>\n",
       "      <td>200</td>\n",
       "      <td>4251</td>\n",
       "    </tr>\n",
       "    <tr>\n",
       "      <th>996</th>\n",
       "      <td>pme609.onramp.awinc.com</td>\n",
       "      <td>1995-08-01 00:36:26</td>\n",
       "      <td>GET</td>\n",
       "      <td>/shuttle/resources/orbiters/discovery-logo.gif</td>\n",
       "      <td>200</td>\n",
       "      <td>4179</td>\n",
       "    </tr>\n",
       "    <tr>\n",
       "      <th>997</th>\n",
       "      <td>marimo.kushiro-ct.ac.jp</td>\n",
       "      <td>1995-08-01 00:36:27</td>\n",
       "      <td>GET</td>\n",
       "      <td>/shuttle/countdown/count70.gif</td>\n",
       "      <td>200</td>\n",
       "      <td>46573</td>\n",
       "    </tr>\n",
       "    <tr>\n",
       "      <th>998</th>\n",
       "      <td>in24.inetnebr.com</td>\n",
       "      <td>1995-08-01 00:36:28</td>\n",
       "      <td>GET</td>\n",
       "      <td>/shuttle/missions/sts-59/news/</td>\n",
       "      <td>200</td>\n",
       "      <td>6122</td>\n",
       "    </tr>\n",
       "    <tr>\n",
       "      <th>999</th>\n",
       "      <td>dialup-2-139.gw.umn.edu</td>\n",
       "      <td>1995-08-01 00:36:30</td>\n",
       "      <td>GET</td>\n",
       "      <td>/facilities/mlp.html</td>\n",
       "      <td>200</td>\n",
       "      <td>2653</td>\n",
       "    </tr>\n",
       "  </tbody>\n",
       "</table>\n",
       "<p>1000 rows × 6 columns</p>\n",
       "</div>"
      ],
      "text/plain": [
       "                      origin                time method  \\\n",
       "0          in24.inetnebr.com 1995-08-01 00:00:01    GET   \n",
       "1            uplherc.upl.com 1995-08-01 00:00:07    GET   \n",
       "2            uplherc.upl.com 1995-08-01 00:00:08    GET   \n",
       "3            uplherc.upl.com 1995-08-01 00:00:08    GET   \n",
       "4            uplherc.upl.com 1995-08-01 00:00:08    GET   \n",
       "..                       ...                 ...    ...   \n",
       "995     www-d1.proxy.aol.com 1995-08-01 00:36:25    GET   \n",
       "996  pme609.onramp.awinc.com 1995-08-01 00:36:26    GET   \n",
       "997  marimo.kushiro-ct.ac.jp 1995-08-01 00:36:27    GET   \n",
       "998        in24.inetnebr.com 1995-08-01 00:36:28    GET   \n",
       "999  dialup-2-139.gw.umn.edu 1995-08-01 00:36:30    GET   \n",
       "\n",
       "                                                path  status_code   size  \n",
       "0    /shuttle/missions/sts-68/news/sts-68-mcc-05.txt          200   1839  \n",
       "1                                                  /          304      0  \n",
       "2                         /images/ksclogo-medium.gif          304      0  \n",
       "3                       /images/MOSAIC-logosmall.gif          304      0  \n",
       "4                          /images/USA-logosmall.gif          304      0  \n",
       "..                                               ...          ...    ...  \n",
       "995                                 /elv/vidpicp.htm          200   4251  \n",
       "996   /shuttle/resources/orbiters/discovery-logo.gif          200   4179  \n",
       "997                   /shuttle/countdown/count70.gif          200  46573  \n",
       "998                   /shuttle/missions/sts-59/news/          200   6122  \n",
       "999                             /facilities/mlp.html          200   2653  \n",
       "\n",
       "[1000 rows x 6 columns]"
      ]
     },
     "execution_count": 31,
     "metadata": {},
     "output_type": "execute_result"
    }
   ],
   "source": [
    "df = pd.DataFrame.from_records(parse_line(line) for line in lines)\n",
    "df"
   ]
  },
  {
   "cell_type": "code",
   "execution_count": 4,
   "id": "2542eb5d",
   "metadata": {},
   "outputs": [],
   "source": [
    "size = 50000\n",
    "df = pd.DataFrame({\n",
    "                'a': np.random.randint(1,1000, size),\n",
    "                'b': np.random.randint(1,1000, size),\n",
    "                'c': np.random.randint(1,1000, size),\n",
    "})"
   ]
  },
  {
   "cell_type": "code",
   "execution_count": 5,
   "id": "d51ce26f",
   "metadata": {},
   "outputs": [
    {
     "name": "stdout",
     "output_type": "stream",
     "text": [
      "17.3 s ± 2.31 s per loop (mean ± std. dev. of 7 runs, 1 loop each)\n"
     ]
    }
   ],
   "source": [
    "%%timeit\n",
    "total = 0\n",
    "for _, row in df.iterrows():\n",
    "    total+= row.max()"
   ]
  },
  {
   "cell_type": "code",
   "execution_count": 6,
   "id": "f6f29afb",
   "metadata": {},
   "outputs": [
    {
     "name": "stdout",
     "output_type": "stream",
     "text": [
      "1.15 s ± 265 ms per loop (mean ± std. dev. of 7 runs, 1 loop each)\n"
     ]
    }
   ],
   "source": [
    "%timeit df.apply(np.max, axis =1, raw = True).sum() #raw supplies the row as numpy array to sum()"
   ]
  },
  {
   "cell_type": "code",
   "execution_count": 7,
   "id": "b26c4be1",
   "metadata": {},
   "outputs": [
    {
     "data": {
      "text/html": [
       "<div>\n",
       "<style scoped>\n",
       "    .dataframe tbody tr th:only-of-type {\n",
       "        vertical-align: middle;\n",
       "    }\n",
       "\n",
       "    .dataframe tbody tr th {\n",
       "        vertical-align: top;\n",
       "    }\n",
       "\n",
       "    .dataframe thead th {\n",
       "        text-align: right;\n",
       "    }\n",
       "</style>\n",
       "<table border=\"1\" class=\"dataframe\">\n",
       "  <thead>\n",
       "    <tr style=\"text-align: right;\">\n",
       "      <th></th>\n",
       "      <th>time</th>\n",
       "      <th>origin</th>\n",
       "      <th>method</th>\n",
       "      <th>path</th>\n",
       "      <th>status_code</th>\n",
       "      <th>size</th>\n",
       "    </tr>\n",
       "  </thead>\n",
       "  <tbody>\n",
       "    <tr>\n",
       "      <th>0</th>\n",
       "      <td>1995-08-01 00:00:01</td>\n",
       "      <td>in24.inetnebr.com</td>\n",
       "      <td>GET</td>\n",
       "      <td>/shuttle/missions/sts-68/news/sts-68-mcc-05.txt</td>\n",
       "      <td>200</td>\n",
       "      <td>1839</td>\n",
       "    </tr>\n",
       "    <tr>\n",
       "      <th>1</th>\n",
       "      <td>1995-08-01 00:00:07</td>\n",
       "      <td>uplherc.upl.com</td>\n",
       "      <td>GET</td>\n",
       "      <td>/</td>\n",
       "      <td>304</td>\n",
       "      <td>0</td>\n",
       "    </tr>\n",
       "    <tr>\n",
       "      <th>2</th>\n",
       "      <td>1995-08-01 00:00:08</td>\n",
       "      <td>uplherc.upl.com</td>\n",
       "      <td>GET</td>\n",
       "      <td>/images/ksclogo-medium.gif</td>\n",
       "      <td>304</td>\n",
       "      <td>0</td>\n",
       "    </tr>\n",
       "    <tr>\n",
       "      <th>3</th>\n",
       "      <td>1995-08-01 00:00:08</td>\n",
       "      <td>uplherc.upl.com</td>\n",
       "      <td>GET</td>\n",
       "      <td>/images/MOSAIC-logosmall.gif</td>\n",
       "      <td>304</td>\n",
       "      <td>0</td>\n",
       "    </tr>\n",
       "    <tr>\n",
       "      <th>4</th>\n",
       "      <td>1995-08-01 00:00:08</td>\n",
       "      <td>uplherc.upl.com</td>\n",
       "      <td>GET</td>\n",
       "      <td>/images/USA-logosmall.gif</td>\n",
       "      <td>304</td>\n",
       "      <td>0</td>\n",
       "    </tr>\n",
       "    <tr>\n",
       "      <th>...</th>\n",
       "      <td>...</td>\n",
       "      <td>...</td>\n",
       "      <td>...</td>\n",
       "      <td>...</td>\n",
       "      <td>...</td>\n",
       "      <td>...</td>\n",
       "    </tr>\n",
       "    <tr>\n",
       "      <th>9995</th>\n",
       "      <td>1995-08-01 07:54:40</td>\n",
       "      <td>ppp-14.flashnet.it</td>\n",
       "      <td>GET</td>\n",
       "      <td>/images/USA-logosmall.gif</td>\n",
       "      <td>200</td>\n",
       "      <td>234</td>\n",
       "    </tr>\n",
       "    <tr>\n",
       "      <th>9996</th>\n",
       "      <td>1995-08-01 07:54:41</td>\n",
       "      <td>204.238.216.51</td>\n",
       "      <td>GET</td>\n",
       "      <td>/images/ksclogo-medium.gif</td>\n",
       "      <td>304</td>\n",
       "      <td>0</td>\n",
       "    </tr>\n",
       "    <tr>\n",
       "      <th>9997</th>\n",
       "      <td>1995-08-01 07:54:42</td>\n",
       "      <td>204.238.216.51</td>\n",
       "      <td>GET</td>\n",
       "      <td>/images/USA-logosmall.gif</td>\n",
       "      <td>304</td>\n",
       "      <td>0</td>\n",
       "    </tr>\n",
       "    <tr>\n",
       "      <th>9998</th>\n",
       "      <td>1995-08-01 07:54:42</td>\n",
       "      <td>204.238.216.51</td>\n",
       "      <td>GET</td>\n",
       "      <td>/images/MOSAIC-logosmall.gif</td>\n",
       "      <td>304</td>\n",
       "      <td>0</td>\n",
       "    </tr>\n",
       "    <tr>\n",
       "      <th>9999</th>\n",
       "      <td>1995-08-01 07:54:42</td>\n",
       "      <td>204.238.216.51</td>\n",
       "      <td>GET</td>\n",
       "      <td>/images/NASA-logosmall.gif</td>\n",
       "      <td>304</td>\n",
       "      <td>0</td>\n",
       "    </tr>\n",
       "  </tbody>\n",
       "</table>\n",
       "<p>10000 rows × 6 columns</p>\n",
       "</div>"
      ],
      "text/plain": [
       "                    time              origin method  \\\n",
       "0    1995-08-01 00:00:01   in24.inetnebr.com    GET   \n",
       "1    1995-08-01 00:00:07     uplherc.upl.com    GET   \n",
       "2    1995-08-01 00:00:08     uplherc.upl.com    GET   \n",
       "3    1995-08-01 00:00:08     uplherc.upl.com    GET   \n",
       "4    1995-08-01 00:00:08     uplherc.upl.com    GET   \n",
       "...                  ...                 ...    ...   \n",
       "9995 1995-08-01 07:54:40  ppp-14.flashnet.it    GET   \n",
       "9996 1995-08-01 07:54:41      204.238.216.51    GET   \n",
       "9997 1995-08-01 07:54:42      204.238.216.51    GET   \n",
       "9998 1995-08-01 07:54:42      204.238.216.51    GET   \n",
       "9999 1995-08-01 07:54:42      204.238.216.51    GET   \n",
       "\n",
       "                                                 path  status_code  size  \n",
       "0     /shuttle/missions/sts-68/news/sts-68-mcc-05.txt          200  1839  \n",
       "1                                                   /          304     0  \n",
       "2                          /images/ksclogo-medium.gif          304     0  \n",
       "3                        /images/MOSAIC-logosmall.gif          304     0  \n",
       "4                           /images/USA-logosmall.gif          304     0  \n",
       "...                                               ...          ...   ...  \n",
       "9995                        /images/USA-logosmall.gif          200   234  \n",
       "9996                       /images/ksclogo-medium.gif          304     0  \n",
       "9997                        /images/USA-logosmall.gif          304     0  \n",
       "9998                     /images/MOSAIC-logosmall.gif          304     0  \n",
       "9999                       /images/NASA-logosmall.gif          304     0  \n",
       "\n",
       "[10000 rows x 6 columns]"
      ]
     },
     "execution_count": 7,
     "metadata": {},
     "output_type": "execute_result"
    }
   ],
   "source": [
    "conn = sqlite3.connect('data3/logs.db', detect_types=sqlite3.PARSE_DECLTYPES)\n",
    "sql1 = 'SELECT * FROM logs'\n",
    "\n",
    "dff = pd.read_sql(sql1, conn)\n",
    "dff"
   ]
  },
  {
   "cell_type": "code",
   "execution_count": 9,
   "id": "f71bd61e",
   "metadata": {},
   "outputs": [],
   "source": [
    "with open('data3/ips.txt', 'r') as fp:\n",
    "    ips = [line.strip() for line in fp]"
   ]
  },
  {
   "cell_type": "code",
   "execution_count": 18,
   "id": "71feaa1a",
   "metadata": {},
   "outputs": [
    {
     "name": "stdout",
     "output_type": "stream",
     "text": [
      "41.6 ms ± 7.15 ms per loop (mean ± std. dev. of 7 runs, 10 loops each)\n"
     ]
    }
   ],
   "source": [
    "%timeit dff['origin'].isin(ips)"
   ]
  },
  {
   "cell_type": "code",
   "execution_count": 19,
   "id": "6a41006d",
   "metadata": {},
   "outputs": [
    {
     "name": "stdout",
     "output_type": "stream",
     "text": [
      "101 ms ± 25.7 ms per loop (mean ± std. dev. of 7 runs, 10 loops each)\n"
     ]
    }
   ],
   "source": [
    "ips_set = set(ips)\n",
    "%timeit dff['origin'].isin(ips_set)"
   ]
  },
  {
   "cell_type": "code",
   "execution_count": 20,
   "id": "68b41a59",
   "metadata": {},
   "outputs": [
    {
     "name": "stdout",
     "output_type": "stream",
     "text": [
      "6.25 ms ± 1.76 ms per loop (mean ± std. dev. of 7 runs, 100 loops each)\n"
     ]
    }
   ],
   "source": [
    "%timeit dff['origin'].apply(lambda v: v in ips_set)"
   ]
  },
  {
   "cell_type": "code",
   "execution_count": 22,
   "id": "1074d3a0",
   "metadata": {},
   "outputs": [
    {
     "name": "stdout",
     "output_type": "stream",
     "text": [
      "3.48 ms ± 1.04 ms per loop (mean ± std. dev. of 7 runs, 100 loops each)\n"
     ]
    }
   ],
   "source": [
    "is_bad = ips_set.__contains__\n",
    "%timeit dff['origin'].apply(is_bad)"
   ]
  },
  {
   "cell_type": "code",
   "execution_count": 31,
   "id": "3d14fb08",
   "metadata": {},
   "outputs": [
    {
     "data": {
      "text/html": [
       "<div>\n",
       "<style scoped>\n",
       "    .dataframe tbody tr th:only-of-type {\n",
       "        vertical-align: middle;\n",
       "    }\n",
       "\n",
       "    .dataframe tbody tr th {\n",
       "        vertical-align: top;\n",
       "    }\n",
       "\n",
       "    .dataframe thead th {\n",
       "        text-align: right;\n",
       "    }\n",
       "</style>\n",
       "<table border=\"1\" class=\"dataframe\">\n",
       "  <thead>\n",
       "    <tr style=\"text-align: right;\">\n",
       "      <th></th>\n",
       "      <th>origin</th>\n",
       "      <th>time</th>\n",
       "      <th>method</th>\n",
       "      <th>path</th>\n",
       "      <th>status_code</th>\n",
       "      <th>size</th>\n",
       "    </tr>\n",
       "  </thead>\n",
       "  <tbody>\n",
       "    <tr>\n",
       "      <th>0</th>\n",
       "      <td>uplherc.upl.com</td>\n",
       "      <td>1995-08-01 00:00:10</td>\n",
       "      <td>GET</td>\n",
       "      <td>/images/WORLD-logosmall.gif</td>\n",
       "      <td>304</td>\n",
       "      <td>0</td>\n",
       "    </tr>\n",
       "    <tr>\n",
       "      <th>1</th>\n",
       "      <td>133.43.96.45</td>\n",
       "      <td>1995-08-01 00:00:25</td>\n",
       "      <td>GET</td>\n",
       "      <td>/history/apollo/images/apollo-logo1.gif</td>\n",
       "      <td>200</td>\n",
       "      <td>1173</td>\n",
       "    </tr>\n",
       "    <tr>\n",
       "      <th>2</th>\n",
       "      <td>133.68.18.180</td>\n",
       "      <td>1995-08-01 00:01:13</td>\n",
       "      <td>GET</td>\n",
       "      <td>/persons/nasa-cm/jmd-sm.gif</td>\n",
       "      <td>200</td>\n",
       "      <td>3660</td>\n",
       "    </tr>\n",
       "    <tr>\n",
       "      <th>3</th>\n",
       "      <td>www-d3.proxy.aol.com</td>\n",
       "      <td>1995-08-01 00:01:28</td>\n",
       "      <td>GET</td>\n",
       "      <td>/images/NASA-logosmall.gif</td>\n",
       "      <td>200</td>\n",
       "      <td>786</td>\n",
       "    </tr>\n",
       "    <tr>\n",
       "      <th>4</th>\n",
       "      <td>haraway.ucet.ufl.edu</td>\n",
       "      <td>1995-08-01 00:04:47</td>\n",
       "      <td>GET</td>\n",
       "      <td>/cgi-bin/imagemap/countdown70?199,165</td>\n",
       "      <td>302</td>\n",
       "      <td>97</td>\n",
       "    </tr>\n",
       "    <tr>\n",
       "      <th>...</th>\n",
       "      <td>...</td>\n",
       "      <td>...</td>\n",
       "      <td>...</td>\n",
       "      <td>...</td>\n",
       "      <td>...</td>\n",
       "      <td>...</td>\n",
       "    </tr>\n",
       "    <tr>\n",
       "      <th>49995</th>\n",
       "      <td>alpc6.mpimf-heidelberg.mpg.de</td>\n",
       "      <td>1995-08-31 23:53:54</td>\n",
       "      <td>GET</td>\n",
       "      <td>/htbin/cdt_main.pl</td>\n",
       "      <td>200</td>\n",
       "      <td>3873</td>\n",
       "    </tr>\n",
       "    <tr>\n",
       "      <th>49996</th>\n",
       "      <td>cindy.yamato.ibm.co.jp</td>\n",
       "      <td>1995-08-31 23:54:40</td>\n",
       "      <td>GET</td>\n",
       "      <td>/images/kscmap-tiny.gif</td>\n",
       "      <td>200</td>\n",
       "      <td>2537</td>\n",
       "    </tr>\n",
       "    <tr>\n",
       "      <th>49997</th>\n",
       "      <td>cys-cap-9.wyoming.com</td>\n",
       "      <td>1995-08-31 23:55:01</td>\n",
       "      <td>GET</td>\n",
       "      <td>/shuttle/missions/sts-71/movies/movies.html</td>\n",
       "      <td>200</td>\n",
       "      <td>3381</td>\n",
       "    </tr>\n",
       "    <tr>\n",
       "      <th>49998</th>\n",
       "      <td>203.243.250.7</td>\n",
       "      <td>1995-08-31 23:55:10</td>\n",
       "      <td>GET</td>\n",
       "      <td>/facilities/vab.html</td>\n",
       "      <td>200</td>\n",
       "      <td>4045</td>\n",
       "    </tr>\n",
       "    <tr>\n",
       "      <th>49999</th>\n",
       "      <td>ts1-019.jaxnet.com</td>\n",
       "      <td>1995-08-31 23:59:07</td>\n",
       "      <td>GET</td>\n",
       "      <td>/shuttle/missions/sts-69/count69.gif</td>\n",
       "      <td>200</td>\n",
       "      <td>46053</td>\n",
       "    </tr>\n",
       "  </tbody>\n",
       "</table>\n",
       "<p>50000 rows × 6 columns</p>\n",
       "</div>"
      ],
      "text/plain": [
       "                              origin                time method  \\\n",
       "0                    uplherc.upl.com 1995-08-01 00:00:10    GET   \n",
       "1                       133.43.96.45 1995-08-01 00:00:25    GET   \n",
       "2                      133.68.18.180 1995-08-01 00:01:13    GET   \n",
       "3               www-d3.proxy.aol.com 1995-08-01 00:01:28    GET   \n",
       "4               haraway.ucet.ufl.edu 1995-08-01 00:04:47    GET   \n",
       "...                              ...                 ...    ...   \n",
       "49995  alpc6.mpimf-heidelberg.mpg.de 1995-08-31 23:53:54    GET   \n",
       "49996         cindy.yamato.ibm.co.jp 1995-08-31 23:54:40    GET   \n",
       "49997          cys-cap-9.wyoming.com 1995-08-31 23:55:01    GET   \n",
       "49998                  203.243.250.7 1995-08-31 23:55:10    GET   \n",
       "49999             ts1-019.jaxnet.com 1995-08-31 23:59:07    GET   \n",
       "\n",
       "                                              path  status_code   size  \n",
       "0                      /images/WORLD-logosmall.gif          304      0  \n",
       "1          /history/apollo/images/apollo-logo1.gif          200   1173  \n",
       "2                      /persons/nasa-cm/jmd-sm.gif          200   3660  \n",
       "3                       /images/NASA-logosmall.gif          200    786  \n",
       "4            /cgi-bin/imagemap/countdown70?199,165          302     97  \n",
       "...                                            ...          ...    ...  \n",
       "49995                           /htbin/cdt_main.pl          200   3873  \n",
       "49996                      /images/kscmap-tiny.gif          200   2537  \n",
       "49997  /shuttle/missions/sts-71/movies/movies.html          200   3381  \n",
       "49998                         /facilities/vab.html          200   4045  \n",
       "49999         /shuttle/missions/sts-69/count69.gif          200  46053  \n",
       "\n",
       "[50000 rows x 6 columns]"
      ]
     },
     "execution_count": 31,
     "metadata": {},
     "output_type": "execute_result"
    }
   ],
   "source": [
    "df = pd.read_csv('logs.csv', parse_dates= ['time'])\n",
    "df"
   ]
  },
  {
   "cell_type": "code",
   "execution_count": 29,
   "id": "fc67fff5",
   "metadata": {},
   "outputs": [],
   "source": [
    "df['time'][32]\n",
    "\n",
    "def is_morning(ts):\n",
    "    t = pd.to_datetime(ts)\n",
    "    return t.hour >=6 and t.hour <12 #to return the morning time from log files"
   ]
  },
  {
   "cell_type": "code",
   "execution_count": 30,
   "id": "23b594b7",
   "metadata": {},
   "outputs": [
    {
     "name": "stdout",
     "output_type": "stream",
     "text": [
      "14.3 s ± 1.13 s per loop (mean ± std. dev. of 7 runs, 1 loop each)\n"
     ]
    }
   ],
   "source": [
    "%timeit df[df['time'].apply(is_morning)] #not a good choice and is slow as each time str is passed when function calls so use\n",
    "#parse_dates in pd.read_csv"
   ]
  },
  {
   "cell_type": "code",
   "execution_count": 32,
   "id": "fb33d4f6",
   "metadata": {},
   "outputs": [
    {
     "name": "stdout",
     "output_type": "stream",
     "text": [
      "38.2 ms ± 5.97 ms per loop (mean ± std. dev. of 7 runs, 10 loops each)\n"
     ]
    }
   ],
   "source": [
    "%timeit df[(df['time'].dt.hour >=6) & (df['time'].dt.hour <12)]"
   ]
  },
  {
   "attachments": {},
   "cell_type": "markdown",
   "id": "a57d2603",
   "metadata": {},
   "source": [
    "Find how many rides in 2016 were in the afternoon of weekend or holiday.\n",
    "- Afternoon: Between noon to 6pm\n",
    "- Weekend: Saturday or Sunday\n",
    "- Holiday: See holidays_2016 below"
   ]
  },
  {
   "cell_type": "code",
   "execution_count": 85,
   "id": "8e5a036c",
   "metadata": {},
   "outputs": [],
   "source": [
    "# 2016 public holidays\n",
    "\n",
    "from calendar import SATURDAY, SUNDAY\n",
    "holidays_2016 = [\n",
    "    '2016-01-01',  # new year\n",
    "    '2016-01-18',  # MLK\n",
    "    '2016-05-30',  # memorial\n",
    "    '2016-07-04',  # independence\n",
    "    '2016-09-05',  # labor\n",
    "    '2016-11-11',  # veterans\n",
    "    '2016-11-24',  # thanksgiving\n",
    "    '2016-12-26',  # christmas\n",
    "]\n",
    "\n",
    "\n",
    "def load_df(file_name):\n",
    "    \"\"\"Load data from CSV to DataFrame\"\"\"\n",
    "    return pd.read_csv(\n",
    "        file_name,\n",
    "        parse_dates={'time': ['Checkout Date', 'Checkout Time']},\n",
    "    )\n",
    "\n",
    "\n",
    "def vacation_rides(df):\n",
    "    \"\"\"Return only rows that are in holiday afternoon\"\"\"\n",
    "    mask_2016 = df['time'].dt.year == 2016\n",
    "    \n",
    "    holiday_mask = (\n",
    "        (df['time'].dt.floor('d').isin(holidays_2016)) |\n",
    "        (df['time'].dt.weekday.isin([SATURDAY, SUNDAY]))\n",
    "    )\n",
    "\n",
    "    afternoon_mask = (df['time'].dt.hour >=12) & (df['time'].dt.hour <6)\n",
    "\n",
    "    return df[mask_2016 & holiday_mask & afternoon_mask]"
   ]
  },
  {
   "cell_type": "code",
   "execution_count": 66,
   "id": "0befd765",
   "metadata": {},
   "outputs": [
    {
     "data": {
      "text/plain": [
       "\"df = pd.read_csv('data3/austin-bikes.csv')\\ndf['time'] = pd.to_datetime(df['Checkout Date'] + ' ' + df['Checkout Time'])\\ndf.drop(['Checkout Date', 'Checkout Time'], axis = 1, inplace = True)\\ndf.head(2)\""
      ]
     },
     "execution_count": 66,
     "metadata": {},
     "output_type": "execute_result"
    }
   ],
   "source": [
    "\"\"\"df = pd.read_csv('data3/austin-bikes.csv')\n",
    "df['time'] = pd.to_datetime(df['Checkout Date'] + ' ' + df['Checkout Time'])\n",
    "df.drop(['Checkout Date', 'Checkout Time'], axis = 1, inplace = True)\n",
    "df.head(2)\"\"\""
   ]
  },
  {
   "cell_type": "code",
   "execution_count": 87,
   "id": "ae1ebbb0",
   "metadata": {},
   "outputs": [],
   "source": [
    "df = load_df('data3/austin-bikes.csv')"
   ]
  },
  {
   "cell_type": "code",
   "execution_count": 88,
   "id": "17e4ac31",
   "metadata": {},
   "outputs": [
    {
     "name": "stdout",
     "output_type": "stream",
     "text": [
      "24 ms ± 2.81 ms per loop (mean ± std. dev. of 7 runs, 100 loops each)\n"
     ]
    }
   ],
   "source": [
    "%timeit vacation_rides(df)"
   ]
  },
  {
   "attachments": {},
   "cell_type": "markdown",
   "id": "f35d4d56",
   "metadata": {},
   "source": [
    "## Pandas Performance"
   ]
  },
  {
   "cell_type": "code",
   "execution_count": 89,
   "id": "31771a81",
   "metadata": {},
   "outputs": [
    {
     "data": {
      "text/html": [
       "<div>\n",
       "<style scoped>\n",
       "    .dataframe tbody tr th:only-of-type {\n",
       "        vertical-align: middle;\n",
       "    }\n",
       "\n",
       "    .dataframe tbody tr th {\n",
       "        vertical-align: top;\n",
       "    }\n",
       "\n",
       "    .dataframe thead th {\n",
       "        text-align: right;\n",
       "    }\n",
       "</style>\n",
       "<table border=\"1\" class=\"dataframe\">\n",
       "  <thead>\n",
       "    <tr style=\"text-align: right;\">\n",
       "      <th></th>\n",
       "      <th>Trip ID</th>\n",
       "      <th>Membership Type</th>\n",
       "      <th>Bicycle ID</th>\n",
       "      <th>Checkout Date</th>\n",
       "      <th>Checkout Time</th>\n",
       "      <th>Checkout Kiosk ID</th>\n",
       "      <th>Checkout Kiosk</th>\n",
       "      <th>Return Kiosk ID</th>\n",
       "      <th>Return Kiosk</th>\n",
       "      <th>Trip Duration Minutes</th>\n",
       "      <th>Month</th>\n",
       "      <th>Year</th>\n",
       "    </tr>\n",
       "  </thead>\n",
       "  <tbody>\n",
       "    <tr>\n",
       "      <th>0</th>\n",
       "      <td>9900334132</td>\n",
       "      <td>24-Hour Kiosk (Austin B-cycle)</td>\n",
       "      <td>839</td>\n",
       "      <td>12/22/2013</td>\n",
       "      <td>13:12:00</td>\n",
       "      <td>2495.0</td>\n",
       "      <td>4th &amp; Congress</td>\n",
       "      <td>2495</td>\n",
       "      <td>4th &amp; Congress</td>\n",
       "      <td>53</td>\n",
       "      <td>12.0</td>\n",
       "      <td>2013.0</td>\n",
       "    </tr>\n",
       "    <tr>\n",
       "      <th>1</th>\n",
       "      <td>9900334089</td>\n",
       "      <td>24-Hour Kiosk (Austin B-cycle)</td>\n",
       "      <td>283</td>\n",
       "      <td>12/22/2013</td>\n",
       "      <td>10:12:00</td>\n",
       "      <td>2501.0</td>\n",
       "      <td>5th &amp; Bowie</td>\n",
       "      <td>2495</td>\n",
       "      <td>4th &amp; Congress</td>\n",
       "      <td>9</td>\n",
       "      <td>12.0</td>\n",
       "      <td>2013.0</td>\n",
       "    </tr>\n",
       "  </tbody>\n",
       "</table>\n",
       "</div>"
      ],
      "text/plain": [
       "      Trip ID                 Membership Type Bicycle ID Checkout Date  \\\n",
       "0  9900334132  24-Hour Kiosk (Austin B-cycle)        839    12/22/2013   \n",
       "1  9900334089  24-Hour Kiosk (Austin B-cycle)        283    12/22/2013   \n",
       "\n",
       "  Checkout Time  Checkout Kiosk ID  Checkout Kiosk Return Kiosk ID  \\\n",
       "0      13:12:00             2495.0  4th & Congress            2495   \n",
       "1      10:12:00             2501.0     5th & Bowie            2495   \n",
       "\n",
       "     Return Kiosk  Trip Duration Minutes  Month    Year  \n",
       "0  4th & Congress                     53   12.0  2013.0  \n",
       "1  4th & Congress                      9   12.0  2013.0  "
      ]
     },
     "execution_count": 89,
     "metadata": {},
     "output_type": "execute_result"
    }
   ],
   "source": [
    "df = pd.read_csv('data3/austin-bikes.csv')\n",
    "df.head(2)"
   ]
  },
  {
   "cell_type": "code",
   "execution_count": null,
   "id": "4ca278e6",
   "metadata": {},
   "outputs": [],
   "source": []
  },
  {
   "cell_type": "code",
   "execution_count": null,
   "id": "a1f6f010",
   "metadata": {},
   "outputs": [],
   "source": []
  },
  {
   "cell_type": "code",
   "execution_count": null,
   "id": "9a321fc1",
   "metadata": {},
   "outputs": [],
   "source": []
  }
 ],
 "metadata": {
  "kernelspec": {
   "display_name": "testing",
   "language": "python",
   "name": "python3"
  },
  "language_info": {
   "codemirror_mode": {
    "name": "ipython",
    "version": 3
   },
   "file_extension": ".py",
   "mimetype": "text/x-python",
   "name": "python",
   "nbconvert_exporter": "python",
   "pygments_lexer": "ipython3",
   "version": "3.8.15"
  },
  "vscode": {
   "interpreter": {
    "hash": "d5aea8af25b13cd6a059c763fd78d1ac974c50389cc5381d08508405dbe2fc71"
   }
  }
 },
 "nbformat": 4,
 "nbformat_minor": 5
}
