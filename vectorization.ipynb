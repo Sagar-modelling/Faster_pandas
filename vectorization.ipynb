{
 "cells": [
  {
   "cell_type": "code",
   "execution_count": 1,
   "id": "cce70f4f",
   "metadata": {},
   "outputs": [],
   "source": [
    "import pandas as pd\n",
    "import numpy as np\n",
    "import sqlite3\n",
    "from datetime import datetime\n",
    "import warnings\n",
    "warnings.filterwarnings(\"ignore\")"
   ]
  },
  {
   "cell_type": "code",
   "execution_count": 22,
   "id": "caa0336c",
   "metadata": {},
   "outputs": [
    {
     "name": "stdout",
     "output_type": "stream",
     "text": [
      "Requirement already satisfied: numpy==1.20.0 in c:\\users\\sagarkandpal\\appdata\\roaming\\python\\python38\\site-packages (1.20.0)\n",
      "Requirement already satisfied: numba==0.53 in c:\\users\\sagarkandpal\\appdata\\roaming\\python\\python38\\site-packages (0.53.0)\n",
      "Requirement already satisfied: llvmlite<0.37,>=0.36.0rc1 in c:\\users\\sagarkandpal\\appdata\\roaming\\python\\python38\\site-packages (from numba==0.53) (0.36.0)\n",
      "Requirement already satisfied: setuptools in d:\\anaconda3\\envs\\testing\\lib\\site-packages (from numba==0.53) (65.5.0)\n",
      "Requirement already satisfied: numpy>=1.15 in c:\\users\\sagarkandpal\\appdata\\roaming\\python\\python38\\site-packages (from numba==0.53) (1.20.0)\n"
     ]
    }
   ],
   "source": [
    "!pip install numpy==1.20.0 --user\n",
    "!pip install numba==0.53 --user"
   ]
  },
  {
   "cell_type": "code",
   "execution_count": 3,
   "id": "212fe54f",
   "metadata": {},
   "outputs": [
    {
     "data": {
      "text/html": [
       "<div>\n",
       "<style scoped>\n",
       "    .dataframe tbody tr th:only-of-type {\n",
       "        vertical-align: middle;\n",
       "    }\n",
       "\n",
       "    .dataframe tbody tr th {\n",
       "        vertical-align: top;\n",
       "    }\n",
       "\n",
       "    .dataframe thead th {\n",
       "        text-align: right;\n",
       "    }\n",
       "</style>\n",
       "<table border=\"1\" class=\"dataframe\">\n",
       "  <thead>\n",
       "    <tr style=\"text-align: right;\">\n",
       "      <th></th>\n",
       "      <th>Customer</th>\n",
       "      <th>Item</th>\n",
       "      <th>Amount</th>\n",
       "      <th>Item Price</th>\n",
       "    </tr>\n",
       "  </thead>\n",
       "  <tbody>\n",
       "    <tr>\n",
       "      <th>0</th>\n",
       "      <td>Rick</td>\n",
       "      <td>Wine</td>\n",
       "      <td>20</td>\n",
       "      <td>103.20</td>\n",
       "    </tr>\n",
       "    <tr>\n",
       "      <th>1</th>\n",
       "      <td>Morty</td>\n",
       "      <td>Almond Milk</td>\n",
       "      <td>1</td>\n",
       "      <td>10.04</td>\n",
       "    </tr>\n",
       "    <tr>\n",
       "      <th>2</th>\n",
       "      <td>Summer</td>\n",
       "      <td>Ice Cream</td>\n",
       "      <td>1</td>\n",
       "      <td>8.32</td>\n",
       "    </tr>\n",
       "    <tr>\n",
       "      <th>3</th>\n",
       "      <td>Beth</td>\n",
       "      <td>Comb</td>\n",
       "      <td>1</td>\n",
       "      <td>7.30</td>\n",
       "    </tr>\n",
       "    <tr>\n",
       "      <th>4</th>\n",
       "      <td>Jerry</td>\n",
       "      <td>Tequila</td>\n",
       "      <td>2</td>\n",
       "      <td>20.34</td>\n",
       "    </tr>\n",
       "  </tbody>\n",
       "</table>\n",
       "</div>"
      ],
      "text/plain": [
       "  Customer         Item  Amount  Item Price\n",
       "0     Rick         Wine      20      103.20\n",
       "1    Morty  Almond Milk       1       10.04\n",
       "2   Summer    Ice Cream       1        8.32\n",
       "3     Beth         Comb       1        7.30\n",
       "4    Jerry      Tequila       2       20.34"
      ]
     },
     "execution_count": 3,
     "metadata": {},
     "output_type": "execute_result"
    }
   ],
   "source": [
    "df = pd.read_csv('https://raw.githubusercontent.com/LinkedInLearning/faster-pandas-2832038/main/Ch02/02_02/cart.csv')\n",
    "df"
   ]
  },
  {
   "cell_type": "code",
   "execution_count": 6,
   "id": "765bfa75",
   "metadata": {},
   "outputs": [],
   "source": [
    "mask = df['Item Price'] > 10"
   ]
  },
  {
   "cell_type": "code",
   "execution_count": 8,
   "id": "edebd31f",
   "metadata": {},
   "outputs": [
    {
     "data": {
      "text/html": [
       "<div>\n",
       "<style scoped>\n",
       "    .dataframe tbody tr th:only-of-type {\n",
       "        vertical-align: middle;\n",
       "    }\n",
       "\n",
       "    .dataframe tbody tr th {\n",
       "        vertical-align: top;\n",
       "    }\n",
       "\n",
       "    .dataframe thead th {\n",
       "        text-align: right;\n",
       "    }\n",
       "</style>\n",
       "<table border=\"1\" class=\"dataframe\">\n",
       "  <thead>\n",
       "    <tr style=\"text-align: right;\">\n",
       "      <th></th>\n",
       "      <th>Customer</th>\n",
       "      <th>Item</th>\n",
       "      <th>Amount</th>\n",
       "      <th>Item Price</th>\n",
       "    </tr>\n",
       "  </thead>\n",
       "  <tbody>\n",
       "    <tr>\n",
       "      <th>0</th>\n",
       "      <td>Rick</td>\n",
       "      <td>Wine</td>\n",
       "      <td>20</td>\n",
       "      <td>103.20</td>\n",
       "    </tr>\n",
       "    <tr>\n",
       "      <th>1</th>\n",
       "      <td>Morty</td>\n",
       "      <td>Almond Milk</td>\n",
       "      <td>1</td>\n",
       "      <td>10.04</td>\n",
       "    </tr>\n",
       "    <tr>\n",
       "      <th>4</th>\n",
       "      <td>Jerry</td>\n",
       "      <td>Tequila</td>\n",
       "      <td>2</td>\n",
       "      <td>20.34</td>\n",
       "    </tr>\n",
       "  </tbody>\n",
       "</table>\n",
       "</div>"
      ],
      "text/plain": [
       "  Customer         Item  Amount  Item Price\n",
       "0     Rick         Wine      20      103.20\n",
       "1    Morty  Almond Milk       1       10.04\n",
       "4    Jerry      Tequila       2       20.34"
      ]
     },
     "execution_count": 8,
     "metadata": {},
     "output_type": "execute_result"
    }
   ],
   "source": [
    "df[mask]"
   ]
  },
  {
   "cell_type": "code",
   "execution_count": 96,
   "id": "013ec21a",
   "metadata": {},
   "outputs": [],
   "source": [
    "conn = sqlite3.connect('logs.db', detect_types=sqlite3.PARSE_DECLTYPES)\n",
    "sql1 = 'SELECT * FROM logs'"
   ]
  },
  {
   "cell_type": "code",
   "execution_count": 12,
   "id": "22f83312",
   "metadata": {},
   "outputs": [
    {
     "data": {
      "text/html": [
       "<div>\n",
       "<style scoped>\n",
       "    .dataframe tbody tr th:only-of-type {\n",
       "        vertical-align: middle;\n",
       "    }\n",
       "\n",
       "    .dataframe tbody tr th {\n",
       "        vertical-align: top;\n",
       "    }\n",
       "\n",
       "    .dataframe thead th {\n",
       "        text-align: right;\n",
       "    }\n",
       "</style>\n",
       "<table border=\"1\" class=\"dataframe\">\n",
       "  <thead>\n",
       "    <tr style=\"text-align: right;\">\n",
       "      <th></th>\n",
       "      <th>time</th>\n",
       "      <th>origin</th>\n",
       "      <th>method</th>\n",
       "      <th>path</th>\n",
       "      <th>status_code</th>\n",
       "      <th>size</th>\n",
       "    </tr>\n",
       "  </thead>\n",
       "  <tbody>\n",
       "    <tr>\n",
       "      <th>0</th>\n",
       "      <td>1995-08-01 00:00:01</td>\n",
       "      <td>in24.inetnebr.com</td>\n",
       "      <td>GET</td>\n",
       "      <td>/shuttle/missions/sts-68/news/sts-68-mcc-05.txt</td>\n",
       "      <td>200</td>\n",
       "      <td>1839</td>\n",
       "    </tr>\n",
       "    <tr>\n",
       "      <th>1</th>\n",
       "      <td>1995-08-01 00:00:07</td>\n",
       "      <td>uplherc.upl.com</td>\n",
       "      <td>GET</td>\n",
       "      <td>/</td>\n",
       "      <td>304</td>\n",
       "      <td>0</td>\n",
       "    </tr>\n",
       "    <tr>\n",
       "      <th>2</th>\n",
       "      <td>1995-08-01 00:00:08</td>\n",
       "      <td>uplherc.upl.com</td>\n",
       "      <td>GET</td>\n",
       "      <td>/images/ksclogo-medium.gif</td>\n",
       "      <td>304</td>\n",
       "      <td>0</td>\n",
       "    </tr>\n",
       "    <tr>\n",
       "      <th>3</th>\n",
       "      <td>1995-08-01 00:00:08</td>\n",
       "      <td>uplherc.upl.com</td>\n",
       "      <td>GET</td>\n",
       "      <td>/images/MOSAIC-logosmall.gif</td>\n",
       "      <td>304</td>\n",
       "      <td>0</td>\n",
       "    </tr>\n",
       "    <tr>\n",
       "      <th>4</th>\n",
       "      <td>1995-08-01 00:00:08</td>\n",
       "      <td>uplherc.upl.com</td>\n",
       "      <td>GET</td>\n",
       "      <td>/images/USA-logosmall.gif</td>\n",
       "      <td>304</td>\n",
       "      <td>0</td>\n",
       "    </tr>\n",
       "    <tr>\n",
       "      <th>...</th>\n",
       "      <td>...</td>\n",
       "      <td>...</td>\n",
       "      <td>...</td>\n",
       "      <td>...</td>\n",
       "      <td>...</td>\n",
       "      <td>...</td>\n",
       "    </tr>\n",
       "    <tr>\n",
       "      <th>9995</th>\n",
       "      <td>1995-08-01 07:54:40</td>\n",
       "      <td>ppp-14.flashnet.it</td>\n",
       "      <td>GET</td>\n",
       "      <td>/images/USA-logosmall.gif</td>\n",
       "      <td>200</td>\n",
       "      <td>234</td>\n",
       "    </tr>\n",
       "    <tr>\n",
       "      <th>9996</th>\n",
       "      <td>1995-08-01 07:54:41</td>\n",
       "      <td>204.238.216.51</td>\n",
       "      <td>GET</td>\n",
       "      <td>/images/ksclogo-medium.gif</td>\n",
       "      <td>304</td>\n",
       "      <td>0</td>\n",
       "    </tr>\n",
       "    <tr>\n",
       "      <th>9997</th>\n",
       "      <td>1995-08-01 07:54:42</td>\n",
       "      <td>204.238.216.51</td>\n",
       "      <td>GET</td>\n",
       "      <td>/images/USA-logosmall.gif</td>\n",
       "      <td>304</td>\n",
       "      <td>0</td>\n",
       "    </tr>\n",
       "    <tr>\n",
       "      <th>9998</th>\n",
       "      <td>1995-08-01 07:54:42</td>\n",
       "      <td>204.238.216.51</td>\n",
       "      <td>GET</td>\n",
       "      <td>/images/MOSAIC-logosmall.gif</td>\n",
       "      <td>304</td>\n",
       "      <td>0</td>\n",
       "    </tr>\n",
       "    <tr>\n",
       "      <th>9999</th>\n",
       "      <td>1995-08-01 07:54:42</td>\n",
       "      <td>204.238.216.51</td>\n",
       "      <td>GET</td>\n",
       "      <td>/images/NASA-logosmall.gif</td>\n",
       "      <td>304</td>\n",
       "      <td>0</td>\n",
       "    </tr>\n",
       "  </tbody>\n",
       "</table>\n",
       "<p>10000 rows × 6 columns</p>\n",
       "</div>"
      ],
      "text/plain": [
       "                    time              origin method  \\\n",
       "0    1995-08-01 00:00:01   in24.inetnebr.com    GET   \n",
       "1    1995-08-01 00:00:07     uplherc.upl.com    GET   \n",
       "2    1995-08-01 00:00:08     uplherc.upl.com    GET   \n",
       "3    1995-08-01 00:00:08     uplherc.upl.com    GET   \n",
       "4    1995-08-01 00:00:08     uplherc.upl.com    GET   \n",
       "...                  ...                 ...    ...   \n",
       "9995 1995-08-01 07:54:40  ppp-14.flashnet.it    GET   \n",
       "9996 1995-08-01 07:54:41      204.238.216.51    GET   \n",
       "9997 1995-08-01 07:54:42      204.238.216.51    GET   \n",
       "9998 1995-08-01 07:54:42      204.238.216.51    GET   \n",
       "9999 1995-08-01 07:54:42      204.238.216.51    GET   \n",
       "\n",
       "                                                 path  status_code  size  \n",
       "0     /shuttle/missions/sts-68/news/sts-68-mcc-05.txt          200  1839  \n",
       "1                                                   /          304     0  \n",
       "2                          /images/ksclogo-medium.gif          304     0  \n",
       "3                        /images/MOSAIC-logosmall.gif          304     0  \n",
       "4                           /images/USA-logosmall.gif          304     0  \n",
       "...                                               ...          ...   ...  \n",
       "9995                        /images/USA-logosmall.gif          200   234  \n",
       "9996                       /images/ksclogo-medium.gif          304     0  \n",
       "9997                        /images/USA-logosmall.gif          304     0  \n",
       "9998                     /images/MOSAIC-logosmall.gif          304     0  \n",
       "9999                       /images/NASA-logosmall.gif          304     0  \n",
       "\n",
       "[10000 rows x 6 columns]"
      ]
     },
     "execution_count": 12,
     "metadata": {},
     "output_type": "execute_result"
    }
   ],
   "source": [
    "dff = pd.read_sql(sql1, conn)\n",
    "dff"
   ]
  },
  {
   "cell_type": "code",
   "execution_count": 16,
   "id": "b581fa64",
   "metadata": {},
   "outputs": [
    {
     "name": "stdout",
     "output_type": "stream",
     "text": [
      "2.77 s ± 459 ms per loop (mean ± std. dev. of 7 runs, 1 loop each)\n"
     ]
    }
   ],
   "source": [
    "%%timeit\n",
    "tot = 0\n",
    "for x,row in dff.iterrows():\n",
    "    if row['status_code'] >=400:\n",
    "        tot+= 1\n"
   ]
  },
  {
   "cell_type": "code",
   "execution_count": 17,
   "id": "3028b8bb",
   "metadata": {},
   "outputs": [
    {
     "name": "stdout",
     "output_type": "stream",
     "text": [
      "1.27 ms ± 319 µs per loop (mean ± std. dev. of 7 runs, 1,000 loops each)\n"
     ]
    }
   ],
   "source": [
    "%timeit dff[dff['status_code'] >=400] #boolean indexing"
   ]
  },
  {
   "attachments": {},
   "cell_type": "markdown",
   "id": "96e19f6d",
   "metadata": {},
   "source": [
    "## Universal Functions"
   ]
  },
  {
   "cell_type": "code",
   "execution_count": 19,
   "id": "652eb7dd",
   "metadata": {},
   "outputs": [
    {
     "name": "stdout",
     "output_type": "stream",
     "text": [
      "283 µs ± 69.9 µs per loop (mean ± std. dev. of 7 runs, 1,000 loops each)\n"
     ]
    }
   ],
   "source": [
    "s =pd.Series(range(1000))\n",
    "%timeit max(s)"
   ]
  },
  {
   "cell_type": "code",
   "execution_count": 20,
   "id": "c0f7770c",
   "metadata": {},
   "outputs": [
    {
     "name": "stdout",
     "output_type": "stream",
     "text": [
      "108 µs ± 20.6 µs per loop (mean ± std. dev. of 7 runs, 10,000 loops each)\n"
     ]
    }
   ],
   "source": [
    "%timeit s.max() #pandas max function faster"
   ]
  },
  {
   "attachments": {},
   "cell_type": "markdown",
   "id": "0b75e6b8",
   "metadata": {},
   "source": [
    "## limitations of appending"
   ]
  },
  {
   "cell_type": "code",
   "execution_count": 2,
   "id": "b42dc8ed",
   "metadata": {},
   "outputs": [],
   "source": [
    "def parse_time(ts):\n",
    "    # [02/Jul/1995:16:30:08 -0400] for converting string time to datetime format\n",
    "    time = datetime.strptime(ts, '[%d/%b/%Y:%H:%M:%S %z]')\n",
    "    return time.replace(tzinfo=None)  # Remove time zone\n",
    "\n",
    "def parse_line(line): #for parsing the line\n",
    "    fields = line.split()\n",
    "    size = 0 if fields[-1] == '-' else int(fields[-1])\n",
    "    return {\n",
    "        'origin': fields[0],\n",
    "        'time': parse_time(fields[3] + ' ' + fields[4]),\n",
    "        'method': fields[5][1:],  # Remove leading \"\n",
    "        'path': fields[6],\n",
    "        'status_code': int(fields[-2]),\n",
    "        'size': size,\n",
    "    }"
   ]
  },
  {
   "cell_type": "code",
   "execution_count": 23,
   "id": "3323660d",
   "metadata": {},
   "outputs": [],
   "source": [
    "with open (\"log.txt\", \"r\") as fp:\n",
    "    lines = fp.readlines()"
   ]
  },
  {
   "cell_type": "code",
   "execution_count": 27,
   "id": "6d2183ce",
   "metadata": {},
   "outputs": [
    {
     "name": "stdout",
     "output_type": "stream",
     "text": [
      "1.82 s ± 14.1 ms per loop (mean ± std. dev. of 7 runs, 1 loop each)\n"
     ]
    }
   ],
   "source": [
    "%%timeit\n",
    "df = pd.DataFrame()\n",
    "for line in lines:\n",
    "    df = df.append(parse_line(line), ignore_index= True)"
   ]
  },
  {
   "cell_type": "code",
   "execution_count": 29,
   "id": "360ff57b",
   "metadata": {},
   "outputs": [
    {
     "name": "stdout",
     "output_type": "stream",
     "text": [
      "25.8 ms ± 707 µs per loop (mean ± std. dev. of 7 runs, 10 loops each)\n"
     ]
    }
   ],
   "source": [
    "# Dataframes are slow with append, python lists are very fast.\n",
    "# from records to convert DataFrame to a NumPy record array\n",
    "%timeit df = pd.DataFrame.from_records(parse_line(line) for line in lines) "
   ]
  },
  {
   "cell_type": "code",
   "execution_count": 31,
   "id": "fab7ff2a",
   "metadata": {},
   "outputs": [
    {
     "data": {
      "text/html": [
       "<div>\n",
       "<style scoped>\n",
       "    .dataframe tbody tr th:only-of-type {\n",
       "        vertical-align: middle;\n",
       "    }\n",
       "\n",
       "    .dataframe tbody tr th {\n",
       "        vertical-align: top;\n",
       "    }\n",
       "\n",
       "    .dataframe thead th {\n",
       "        text-align: right;\n",
       "    }\n",
       "</style>\n",
       "<table border=\"1\" class=\"dataframe\">\n",
       "  <thead>\n",
       "    <tr style=\"text-align: right;\">\n",
       "      <th></th>\n",
       "      <th>origin</th>\n",
       "      <th>time</th>\n",
       "      <th>method</th>\n",
       "      <th>path</th>\n",
       "      <th>status_code</th>\n",
       "      <th>size</th>\n",
       "    </tr>\n",
       "  </thead>\n",
       "  <tbody>\n",
       "    <tr>\n",
       "      <th>0</th>\n",
       "      <td>in24.inetnebr.com</td>\n",
       "      <td>1995-08-01 00:00:01</td>\n",
       "      <td>GET</td>\n",
       "      <td>/shuttle/missions/sts-68/news/sts-68-mcc-05.txt</td>\n",
       "      <td>200</td>\n",
       "      <td>1839</td>\n",
       "    </tr>\n",
       "    <tr>\n",
       "      <th>1</th>\n",
       "      <td>uplherc.upl.com</td>\n",
       "      <td>1995-08-01 00:00:07</td>\n",
       "      <td>GET</td>\n",
       "      <td>/</td>\n",
       "      <td>304</td>\n",
       "      <td>0</td>\n",
       "    </tr>\n",
       "    <tr>\n",
       "      <th>2</th>\n",
       "      <td>uplherc.upl.com</td>\n",
       "      <td>1995-08-01 00:00:08</td>\n",
       "      <td>GET</td>\n",
       "      <td>/images/ksclogo-medium.gif</td>\n",
       "      <td>304</td>\n",
       "      <td>0</td>\n",
       "    </tr>\n",
       "    <tr>\n",
       "      <th>3</th>\n",
       "      <td>uplherc.upl.com</td>\n",
       "      <td>1995-08-01 00:00:08</td>\n",
       "      <td>GET</td>\n",
       "      <td>/images/MOSAIC-logosmall.gif</td>\n",
       "      <td>304</td>\n",
       "      <td>0</td>\n",
       "    </tr>\n",
       "    <tr>\n",
       "      <th>4</th>\n",
       "      <td>uplherc.upl.com</td>\n",
       "      <td>1995-08-01 00:00:08</td>\n",
       "      <td>GET</td>\n",
       "      <td>/images/USA-logosmall.gif</td>\n",
       "      <td>304</td>\n",
       "      <td>0</td>\n",
       "    </tr>\n",
       "    <tr>\n",
       "      <th>...</th>\n",
       "      <td>...</td>\n",
       "      <td>...</td>\n",
       "      <td>...</td>\n",
       "      <td>...</td>\n",
       "      <td>...</td>\n",
       "      <td>...</td>\n",
       "    </tr>\n",
       "    <tr>\n",
       "      <th>995</th>\n",
       "      <td>www-d1.proxy.aol.com</td>\n",
       "      <td>1995-08-01 00:36:25</td>\n",
       "      <td>GET</td>\n",
       "      <td>/elv/vidpicp.htm</td>\n",
       "      <td>200</td>\n",
       "      <td>4251</td>\n",
       "    </tr>\n",
       "    <tr>\n",
       "      <th>996</th>\n",
       "      <td>pme609.onramp.awinc.com</td>\n",
       "      <td>1995-08-01 00:36:26</td>\n",
       "      <td>GET</td>\n",
       "      <td>/shuttle/resources/orbiters/discovery-logo.gif</td>\n",
       "      <td>200</td>\n",
       "      <td>4179</td>\n",
       "    </tr>\n",
       "    <tr>\n",
       "      <th>997</th>\n",
       "      <td>marimo.kushiro-ct.ac.jp</td>\n",
       "      <td>1995-08-01 00:36:27</td>\n",
       "      <td>GET</td>\n",
       "      <td>/shuttle/countdown/count70.gif</td>\n",
       "      <td>200</td>\n",
       "      <td>46573</td>\n",
       "    </tr>\n",
       "    <tr>\n",
       "      <th>998</th>\n",
       "      <td>in24.inetnebr.com</td>\n",
       "      <td>1995-08-01 00:36:28</td>\n",
       "      <td>GET</td>\n",
       "      <td>/shuttle/missions/sts-59/news/</td>\n",
       "      <td>200</td>\n",
       "      <td>6122</td>\n",
       "    </tr>\n",
       "    <tr>\n",
       "      <th>999</th>\n",
       "      <td>dialup-2-139.gw.umn.edu</td>\n",
       "      <td>1995-08-01 00:36:30</td>\n",
       "      <td>GET</td>\n",
       "      <td>/facilities/mlp.html</td>\n",
       "      <td>200</td>\n",
       "      <td>2653</td>\n",
       "    </tr>\n",
       "  </tbody>\n",
       "</table>\n",
       "<p>1000 rows × 6 columns</p>\n",
       "</div>"
      ],
      "text/plain": [
       "                      origin                time method  \\\n",
       "0          in24.inetnebr.com 1995-08-01 00:00:01    GET   \n",
       "1            uplherc.upl.com 1995-08-01 00:00:07    GET   \n",
       "2            uplherc.upl.com 1995-08-01 00:00:08    GET   \n",
       "3            uplherc.upl.com 1995-08-01 00:00:08    GET   \n",
       "4            uplherc.upl.com 1995-08-01 00:00:08    GET   \n",
       "..                       ...                 ...    ...   \n",
       "995     www-d1.proxy.aol.com 1995-08-01 00:36:25    GET   \n",
       "996  pme609.onramp.awinc.com 1995-08-01 00:36:26    GET   \n",
       "997  marimo.kushiro-ct.ac.jp 1995-08-01 00:36:27    GET   \n",
       "998        in24.inetnebr.com 1995-08-01 00:36:28    GET   \n",
       "999  dialup-2-139.gw.umn.edu 1995-08-01 00:36:30    GET   \n",
       "\n",
       "                                                path  status_code   size  \n",
       "0    /shuttle/missions/sts-68/news/sts-68-mcc-05.txt          200   1839  \n",
       "1                                                  /          304      0  \n",
       "2                         /images/ksclogo-medium.gif          304      0  \n",
       "3                       /images/MOSAIC-logosmall.gif          304      0  \n",
       "4                          /images/USA-logosmall.gif          304      0  \n",
       "..                                               ...          ...    ...  \n",
       "995                                 /elv/vidpicp.htm          200   4251  \n",
       "996   /shuttle/resources/orbiters/discovery-logo.gif          200   4179  \n",
       "997                   /shuttle/countdown/count70.gif          200  46573  \n",
       "998                   /shuttle/missions/sts-59/news/          200   6122  \n",
       "999                             /facilities/mlp.html          200   2653  \n",
       "\n",
       "[1000 rows x 6 columns]"
      ]
     },
     "execution_count": 31,
     "metadata": {},
     "output_type": "execute_result"
    }
   ],
   "source": [
    "df = pd.DataFrame.from_records(parse_line(line) for line in lines)\n",
    "df"
   ]
  },
  {
   "cell_type": "code",
   "execution_count": 4,
   "id": "2542eb5d",
   "metadata": {},
   "outputs": [],
   "source": [
    "size = 50000\n",
    "df = pd.DataFrame({\n",
    "                'a': np.random.randint(1,1000, size),\n",
    "                'b': np.random.randint(1,1000, size),\n",
    "                'c': np.random.randint(1,1000, size),\n",
    "})"
   ]
  },
  {
   "cell_type": "code",
   "execution_count": 5,
   "id": "d51ce26f",
   "metadata": {},
   "outputs": [
    {
     "name": "stdout",
     "output_type": "stream",
     "text": [
      "17.3 s ± 2.31 s per loop (mean ± std. dev. of 7 runs, 1 loop each)\n"
     ]
    }
   ],
   "source": [
    "%%timeit\n",
    "total = 0\n",
    "for _, row in df.iterrows():\n",
    "    total+= row.max()"
   ]
  },
  {
   "cell_type": "code",
   "execution_count": 6,
   "id": "f6f29afb",
   "metadata": {},
   "outputs": [
    {
     "name": "stdout",
     "output_type": "stream",
     "text": [
      "1.15 s ± 265 ms per loop (mean ± std. dev. of 7 runs, 1 loop each)\n"
     ]
    }
   ],
   "source": [
    "%timeit df.apply(np.max, axis =1, raw = True).sum() #raw supplies the row as numpy array to sum()"
   ]
  },
  {
   "cell_type": "code",
   "execution_count": 7,
   "id": "b26c4be1",
   "metadata": {},
   "outputs": [
    {
     "data": {
      "text/html": [
       "<div>\n",
       "<style scoped>\n",
       "    .dataframe tbody tr th:only-of-type {\n",
       "        vertical-align: middle;\n",
       "    }\n",
       "\n",
       "    .dataframe tbody tr th {\n",
       "        vertical-align: top;\n",
       "    }\n",
       "\n",
       "    .dataframe thead th {\n",
       "        text-align: right;\n",
       "    }\n",
       "</style>\n",
       "<table border=\"1\" class=\"dataframe\">\n",
       "  <thead>\n",
       "    <tr style=\"text-align: right;\">\n",
       "      <th></th>\n",
       "      <th>time</th>\n",
       "      <th>origin</th>\n",
       "      <th>method</th>\n",
       "      <th>path</th>\n",
       "      <th>status_code</th>\n",
       "      <th>size</th>\n",
       "    </tr>\n",
       "  </thead>\n",
       "  <tbody>\n",
       "    <tr>\n",
       "      <th>0</th>\n",
       "      <td>1995-08-01 00:00:01</td>\n",
       "      <td>in24.inetnebr.com</td>\n",
       "      <td>GET</td>\n",
       "      <td>/shuttle/missions/sts-68/news/sts-68-mcc-05.txt</td>\n",
       "      <td>200</td>\n",
       "      <td>1839</td>\n",
       "    </tr>\n",
       "    <tr>\n",
       "      <th>1</th>\n",
       "      <td>1995-08-01 00:00:07</td>\n",
       "      <td>uplherc.upl.com</td>\n",
       "      <td>GET</td>\n",
       "      <td>/</td>\n",
       "      <td>304</td>\n",
       "      <td>0</td>\n",
       "    </tr>\n",
       "    <tr>\n",
       "      <th>2</th>\n",
       "      <td>1995-08-01 00:00:08</td>\n",
       "      <td>uplherc.upl.com</td>\n",
       "      <td>GET</td>\n",
       "      <td>/images/ksclogo-medium.gif</td>\n",
       "      <td>304</td>\n",
       "      <td>0</td>\n",
       "    </tr>\n",
       "    <tr>\n",
       "      <th>3</th>\n",
       "      <td>1995-08-01 00:00:08</td>\n",
       "      <td>uplherc.upl.com</td>\n",
       "      <td>GET</td>\n",
       "      <td>/images/MOSAIC-logosmall.gif</td>\n",
       "      <td>304</td>\n",
       "      <td>0</td>\n",
       "    </tr>\n",
       "    <tr>\n",
       "      <th>4</th>\n",
       "      <td>1995-08-01 00:00:08</td>\n",
       "      <td>uplherc.upl.com</td>\n",
       "      <td>GET</td>\n",
       "      <td>/images/USA-logosmall.gif</td>\n",
       "      <td>304</td>\n",
       "      <td>0</td>\n",
       "    </tr>\n",
       "    <tr>\n",
       "      <th>...</th>\n",
       "      <td>...</td>\n",
       "      <td>...</td>\n",
       "      <td>...</td>\n",
       "      <td>...</td>\n",
       "      <td>...</td>\n",
       "      <td>...</td>\n",
       "    </tr>\n",
       "    <tr>\n",
       "      <th>9995</th>\n",
       "      <td>1995-08-01 07:54:40</td>\n",
       "      <td>ppp-14.flashnet.it</td>\n",
       "      <td>GET</td>\n",
       "      <td>/images/USA-logosmall.gif</td>\n",
       "      <td>200</td>\n",
       "      <td>234</td>\n",
       "    </tr>\n",
       "    <tr>\n",
       "      <th>9996</th>\n",
       "      <td>1995-08-01 07:54:41</td>\n",
       "      <td>204.238.216.51</td>\n",
       "      <td>GET</td>\n",
       "      <td>/images/ksclogo-medium.gif</td>\n",
       "      <td>304</td>\n",
       "      <td>0</td>\n",
       "    </tr>\n",
       "    <tr>\n",
       "      <th>9997</th>\n",
       "      <td>1995-08-01 07:54:42</td>\n",
       "      <td>204.238.216.51</td>\n",
       "      <td>GET</td>\n",
       "      <td>/images/USA-logosmall.gif</td>\n",
       "      <td>304</td>\n",
       "      <td>0</td>\n",
       "    </tr>\n",
       "    <tr>\n",
       "      <th>9998</th>\n",
       "      <td>1995-08-01 07:54:42</td>\n",
       "      <td>204.238.216.51</td>\n",
       "      <td>GET</td>\n",
       "      <td>/images/MOSAIC-logosmall.gif</td>\n",
       "      <td>304</td>\n",
       "      <td>0</td>\n",
       "    </tr>\n",
       "    <tr>\n",
       "      <th>9999</th>\n",
       "      <td>1995-08-01 07:54:42</td>\n",
       "      <td>204.238.216.51</td>\n",
       "      <td>GET</td>\n",
       "      <td>/images/NASA-logosmall.gif</td>\n",
       "      <td>304</td>\n",
       "      <td>0</td>\n",
       "    </tr>\n",
       "  </tbody>\n",
       "</table>\n",
       "<p>10000 rows × 6 columns</p>\n",
       "</div>"
      ],
      "text/plain": [
       "                    time              origin method  \\\n",
       "0    1995-08-01 00:00:01   in24.inetnebr.com    GET   \n",
       "1    1995-08-01 00:00:07     uplherc.upl.com    GET   \n",
       "2    1995-08-01 00:00:08     uplherc.upl.com    GET   \n",
       "3    1995-08-01 00:00:08     uplherc.upl.com    GET   \n",
       "4    1995-08-01 00:00:08     uplherc.upl.com    GET   \n",
       "...                  ...                 ...    ...   \n",
       "9995 1995-08-01 07:54:40  ppp-14.flashnet.it    GET   \n",
       "9996 1995-08-01 07:54:41      204.238.216.51    GET   \n",
       "9997 1995-08-01 07:54:42      204.238.216.51    GET   \n",
       "9998 1995-08-01 07:54:42      204.238.216.51    GET   \n",
       "9999 1995-08-01 07:54:42      204.238.216.51    GET   \n",
       "\n",
       "                                                 path  status_code  size  \n",
       "0     /shuttle/missions/sts-68/news/sts-68-mcc-05.txt          200  1839  \n",
       "1                                                   /          304     0  \n",
       "2                          /images/ksclogo-medium.gif          304     0  \n",
       "3                        /images/MOSAIC-logosmall.gif          304     0  \n",
       "4                           /images/USA-logosmall.gif          304     0  \n",
       "...                                               ...          ...   ...  \n",
       "9995                        /images/USA-logosmall.gif          200   234  \n",
       "9996                       /images/ksclogo-medium.gif          304     0  \n",
       "9997                        /images/USA-logosmall.gif          304     0  \n",
       "9998                     /images/MOSAIC-logosmall.gif          304     0  \n",
       "9999                       /images/NASA-logosmall.gif          304     0  \n",
       "\n",
       "[10000 rows x 6 columns]"
      ]
     },
     "execution_count": 7,
     "metadata": {},
     "output_type": "execute_result"
    }
   ],
   "source": [
    "conn = sqlite3.connect('data3/logs.db', detect_types=sqlite3.PARSE_DECLTYPES)\n",
    "sql1 = 'SELECT * FROM logs'\n",
    "\n",
    "dff = pd.read_sql(sql1, conn)\n",
    "dff"
   ]
  },
  {
   "cell_type": "code",
   "execution_count": 9,
   "id": "f71bd61e",
   "metadata": {},
   "outputs": [],
   "source": [
    "with open('data3/ips.txt', 'r') as fp:\n",
    "    ips = [line.strip() for line in fp]"
   ]
  },
  {
   "cell_type": "code",
   "execution_count": 18,
   "id": "71feaa1a",
   "metadata": {},
   "outputs": [
    {
     "name": "stdout",
     "output_type": "stream",
     "text": [
      "41.6 ms ± 7.15 ms per loop (mean ± std. dev. of 7 runs, 10 loops each)\n"
     ]
    }
   ],
   "source": [
    "%timeit dff['origin'].isin(ips)"
   ]
  },
  {
   "cell_type": "code",
   "execution_count": 19,
   "id": "6a41006d",
   "metadata": {},
   "outputs": [
    {
     "name": "stdout",
     "output_type": "stream",
     "text": [
      "101 ms ± 25.7 ms per loop (mean ± std. dev. of 7 runs, 10 loops each)\n"
     ]
    }
   ],
   "source": [
    "ips_set = set(ips)\n",
    "%timeit dff['origin'].isin(ips_set)"
   ]
  },
  {
   "cell_type": "code",
   "execution_count": 20,
   "id": "68b41a59",
   "metadata": {},
   "outputs": [
    {
     "name": "stdout",
     "output_type": "stream",
     "text": [
      "6.25 ms ± 1.76 ms per loop (mean ± std. dev. of 7 runs, 100 loops each)\n"
     ]
    }
   ],
   "source": [
    "%timeit dff['origin'].apply(lambda v: v in ips_set)"
   ]
  },
  {
   "cell_type": "code",
   "execution_count": 22,
   "id": "1074d3a0",
   "metadata": {},
   "outputs": [
    {
     "name": "stdout",
     "output_type": "stream",
     "text": [
      "3.48 ms ± 1.04 ms per loop (mean ± std. dev. of 7 runs, 100 loops each)\n"
     ]
    }
   ],
   "source": [
    "is_bad = ips_set.__contains__\n",
    "%timeit dff['origin'].apply(is_bad)"
   ]
  },
  {
   "cell_type": "code",
   "execution_count": 31,
   "id": "3d14fb08",
   "metadata": {},
   "outputs": [
    {
     "data": {
      "text/html": [
       "<div>\n",
       "<style scoped>\n",
       "    .dataframe tbody tr th:only-of-type {\n",
       "        vertical-align: middle;\n",
       "    }\n",
       "\n",
       "    .dataframe tbody tr th {\n",
       "        vertical-align: top;\n",
       "    }\n",
       "\n",
       "    .dataframe thead th {\n",
       "        text-align: right;\n",
       "    }\n",
       "</style>\n",
       "<table border=\"1\" class=\"dataframe\">\n",
       "  <thead>\n",
       "    <tr style=\"text-align: right;\">\n",
       "      <th></th>\n",
       "      <th>origin</th>\n",
       "      <th>time</th>\n",
       "      <th>method</th>\n",
       "      <th>path</th>\n",
       "      <th>status_code</th>\n",
       "      <th>size</th>\n",
       "    </tr>\n",
       "  </thead>\n",
       "  <tbody>\n",
       "    <tr>\n",
       "      <th>0</th>\n",
       "      <td>uplherc.upl.com</td>\n",
       "      <td>1995-08-01 00:00:10</td>\n",
       "      <td>GET</td>\n",
       "      <td>/images/WORLD-logosmall.gif</td>\n",
       "      <td>304</td>\n",
       "      <td>0</td>\n",
       "    </tr>\n",
       "    <tr>\n",
       "      <th>1</th>\n",
       "      <td>133.43.96.45</td>\n",
       "      <td>1995-08-01 00:00:25</td>\n",
       "      <td>GET</td>\n",
       "      <td>/history/apollo/images/apollo-logo1.gif</td>\n",
       "      <td>200</td>\n",
       "      <td>1173</td>\n",
       "    </tr>\n",
       "    <tr>\n",
       "      <th>2</th>\n",
       "      <td>133.68.18.180</td>\n",
       "      <td>1995-08-01 00:01:13</td>\n",
       "      <td>GET</td>\n",
       "      <td>/persons/nasa-cm/jmd-sm.gif</td>\n",
       "      <td>200</td>\n",
       "      <td>3660</td>\n",
       "    </tr>\n",
       "    <tr>\n",
       "      <th>3</th>\n",
       "      <td>www-d3.proxy.aol.com</td>\n",
       "      <td>1995-08-01 00:01:28</td>\n",
       "      <td>GET</td>\n",
       "      <td>/images/NASA-logosmall.gif</td>\n",
       "      <td>200</td>\n",
       "      <td>786</td>\n",
       "    </tr>\n",
       "    <tr>\n",
       "      <th>4</th>\n",
       "      <td>haraway.ucet.ufl.edu</td>\n",
       "      <td>1995-08-01 00:04:47</td>\n",
       "      <td>GET</td>\n",
       "      <td>/cgi-bin/imagemap/countdown70?199,165</td>\n",
       "      <td>302</td>\n",
       "      <td>97</td>\n",
       "    </tr>\n",
       "    <tr>\n",
       "      <th>...</th>\n",
       "      <td>...</td>\n",
       "      <td>...</td>\n",
       "      <td>...</td>\n",
       "      <td>...</td>\n",
       "      <td>...</td>\n",
       "      <td>...</td>\n",
       "    </tr>\n",
       "    <tr>\n",
       "      <th>49995</th>\n",
       "      <td>alpc6.mpimf-heidelberg.mpg.de</td>\n",
       "      <td>1995-08-31 23:53:54</td>\n",
       "      <td>GET</td>\n",
       "      <td>/htbin/cdt_main.pl</td>\n",
       "      <td>200</td>\n",
       "      <td>3873</td>\n",
       "    </tr>\n",
       "    <tr>\n",
       "      <th>49996</th>\n",
       "      <td>cindy.yamato.ibm.co.jp</td>\n",
       "      <td>1995-08-31 23:54:40</td>\n",
       "      <td>GET</td>\n",
       "      <td>/images/kscmap-tiny.gif</td>\n",
       "      <td>200</td>\n",
       "      <td>2537</td>\n",
       "    </tr>\n",
       "    <tr>\n",
       "      <th>49997</th>\n",
       "      <td>cys-cap-9.wyoming.com</td>\n",
       "      <td>1995-08-31 23:55:01</td>\n",
       "      <td>GET</td>\n",
       "      <td>/shuttle/missions/sts-71/movies/movies.html</td>\n",
       "      <td>200</td>\n",
       "      <td>3381</td>\n",
       "    </tr>\n",
       "    <tr>\n",
       "      <th>49998</th>\n",
       "      <td>203.243.250.7</td>\n",
       "      <td>1995-08-31 23:55:10</td>\n",
       "      <td>GET</td>\n",
       "      <td>/facilities/vab.html</td>\n",
       "      <td>200</td>\n",
       "      <td>4045</td>\n",
       "    </tr>\n",
       "    <tr>\n",
       "      <th>49999</th>\n",
       "      <td>ts1-019.jaxnet.com</td>\n",
       "      <td>1995-08-31 23:59:07</td>\n",
       "      <td>GET</td>\n",
       "      <td>/shuttle/missions/sts-69/count69.gif</td>\n",
       "      <td>200</td>\n",
       "      <td>46053</td>\n",
       "    </tr>\n",
       "  </tbody>\n",
       "</table>\n",
       "<p>50000 rows × 6 columns</p>\n",
       "</div>"
      ],
      "text/plain": [
       "                              origin                time method  \\\n",
       "0                    uplherc.upl.com 1995-08-01 00:00:10    GET   \n",
       "1                       133.43.96.45 1995-08-01 00:00:25    GET   \n",
       "2                      133.68.18.180 1995-08-01 00:01:13    GET   \n",
       "3               www-d3.proxy.aol.com 1995-08-01 00:01:28    GET   \n",
       "4               haraway.ucet.ufl.edu 1995-08-01 00:04:47    GET   \n",
       "...                              ...                 ...    ...   \n",
       "49995  alpc6.mpimf-heidelberg.mpg.de 1995-08-31 23:53:54    GET   \n",
       "49996         cindy.yamato.ibm.co.jp 1995-08-31 23:54:40    GET   \n",
       "49997          cys-cap-9.wyoming.com 1995-08-31 23:55:01    GET   \n",
       "49998                  203.243.250.7 1995-08-31 23:55:10    GET   \n",
       "49999             ts1-019.jaxnet.com 1995-08-31 23:59:07    GET   \n",
       "\n",
       "                                              path  status_code   size  \n",
       "0                      /images/WORLD-logosmall.gif          304      0  \n",
       "1          /history/apollo/images/apollo-logo1.gif          200   1173  \n",
       "2                      /persons/nasa-cm/jmd-sm.gif          200   3660  \n",
       "3                       /images/NASA-logosmall.gif          200    786  \n",
       "4            /cgi-bin/imagemap/countdown70?199,165          302     97  \n",
       "...                                            ...          ...    ...  \n",
       "49995                           /htbin/cdt_main.pl          200   3873  \n",
       "49996                      /images/kscmap-tiny.gif          200   2537  \n",
       "49997  /shuttle/missions/sts-71/movies/movies.html          200   3381  \n",
       "49998                         /facilities/vab.html          200   4045  \n",
       "49999         /shuttle/missions/sts-69/count69.gif          200  46053  \n",
       "\n",
       "[50000 rows x 6 columns]"
      ]
     },
     "execution_count": 31,
     "metadata": {},
     "output_type": "execute_result"
    }
   ],
   "source": [
    "df = pd.read_csv('logs.csv', parse_dates= ['time'])\n",
    "df"
   ]
  },
  {
   "cell_type": "code",
   "execution_count": 29,
   "id": "fc67fff5",
   "metadata": {},
   "outputs": [],
   "source": [
    "df['time'][32]\n",
    "\n",
    "def is_morning(ts):\n",
    "    t = pd.to_datetime(ts)\n",
    "    return t.hour >=6 and t.hour <12 #to return the morning time from log files"
   ]
  },
  {
   "cell_type": "code",
   "execution_count": 30,
   "id": "23b594b7",
   "metadata": {},
   "outputs": [
    {
     "name": "stdout",
     "output_type": "stream",
     "text": [
      "14.3 s ± 1.13 s per loop (mean ± std. dev. of 7 runs, 1 loop each)\n"
     ]
    }
   ],
   "source": [
    "%timeit df[df['time'].apply(is_morning)] #not a good choice and is slow as each time str is passed when function calls so use\n",
    "#parse_dates in pd.read_csv"
   ]
  },
  {
   "cell_type": "code",
   "execution_count": 32,
   "id": "fb33d4f6",
   "metadata": {},
   "outputs": [
    {
     "name": "stdout",
     "output_type": "stream",
     "text": [
      "38.2 ms ± 5.97 ms per loop (mean ± std. dev. of 7 runs, 10 loops each)\n"
     ]
    }
   ],
   "source": [
    "%timeit df[(df['time'].dt.hour >=6) & (df['time'].dt.hour <12)]"
   ]
  },
  {
   "attachments": {},
   "cell_type": "markdown",
   "id": "a57d2603",
   "metadata": {},
   "source": [
    "Find how many rides in 2016 were in the afternoon of weekend or holiday.\n",
    "- Afternoon: Between noon to 6pm\n",
    "- Weekend: Saturday or Sunday\n",
    "- Holiday: See holidays_2016 below"
   ]
  },
  {
   "cell_type": "code",
   "execution_count": 85,
   "id": "8e5a036c",
   "metadata": {},
   "outputs": [],
   "source": [
    "# 2016 public holidays\n",
    "\n",
    "from calendar import SATURDAY, SUNDAY\n",
    "holidays_2016 = [\n",
    "    '2016-01-01',  # new year\n",
    "    '2016-01-18',  # MLK\n",
    "    '2016-05-30',  # memorial\n",
    "    '2016-07-04',  # independence\n",
    "    '2016-09-05',  # labor\n",
    "    '2016-11-11',  # veterans\n",
    "    '2016-11-24',  # thanksgiving\n",
    "    '2016-12-26',  # christmas\n",
    "]\n",
    "\n",
    "\n",
    "def load_df(file_name):\n",
    "    \"\"\"Load data from CSV to DataFrame\"\"\"\n",
    "    return pd.read_csv(\n",
    "        file_name,\n",
    "        parse_dates={'time': ['Checkout Date', 'Checkout Time']},\n",
    "    )\n",
    "\n",
    "\n",
    "def vacation_rides(df):\n",
    "    \"\"\"Return only rows that are in holiday afternoon\"\"\"\n",
    "    mask_2016 = df['time'].dt.year == 2016\n",
    "    \n",
    "    holiday_mask = (\n",
    "        (df['time'].dt.floor('d').isin(holidays_2016)) |\n",
    "        (df['time'].dt.weekday.isin([SATURDAY, SUNDAY]))\n",
    "    )\n",
    "\n",
    "    afternoon_mask = (df['time'].dt.hour >=12) & (df['time'].dt.hour <6)\n",
    "\n",
    "    return df[mask_2016 & holiday_mask & afternoon_mask]"
   ]
  },
  {
   "cell_type": "code",
   "execution_count": 66,
   "id": "0befd765",
   "metadata": {},
   "outputs": [
    {
     "data": {
      "text/plain": [
       "\"df = pd.read_csv('data3/austin-bikes.csv')\\ndf['time'] = pd.to_datetime(df['Checkout Date'] + ' ' + df['Checkout Time'])\\ndf.drop(['Checkout Date', 'Checkout Time'], axis = 1, inplace = True)\\ndf.head(2)\""
      ]
     },
     "execution_count": 66,
     "metadata": {},
     "output_type": "execute_result"
    }
   ],
   "source": [
    "\"\"\"df = pd.read_csv('data3/austin-bikes.csv')\n",
    "df['time'] = pd.to_datetime(df['Checkout Date'] + ' ' + df['Checkout Time'])\n",
    "df.drop(['Checkout Date', 'Checkout Time'], axis = 1, inplace = True)\n",
    "df.head(2)\"\"\""
   ]
  },
  {
   "cell_type": "code",
   "execution_count": 87,
   "id": "ae1ebbb0",
   "metadata": {},
   "outputs": [],
   "source": [
    "df = load_df('data3/austin-bikes.csv')"
   ]
  },
  {
   "cell_type": "code",
   "execution_count": 88,
   "id": "17e4ac31",
   "metadata": {},
   "outputs": [
    {
     "name": "stdout",
     "output_type": "stream",
     "text": [
      "24 ms ± 2.81 ms per loop (mean ± std. dev. of 7 runs, 100 loops each)\n"
     ]
    }
   ],
   "source": [
    "%timeit vacation_rides(df)"
   ]
  },
  {
   "attachments": {},
   "cell_type": "markdown",
   "id": "f35d4d56",
   "metadata": {},
   "source": [
    "## Pandas Performance"
   ]
  },
  {
   "cell_type": "code",
   "execution_count": 90,
   "id": "31771a81",
   "metadata": {},
   "outputs": [
    {
     "data": {
      "text/html": [
       "<div>\n",
       "<style scoped>\n",
       "    .dataframe tbody tr th:only-of-type {\n",
       "        vertical-align: middle;\n",
       "    }\n",
       "\n",
       "    .dataframe tbody tr th {\n",
       "        vertical-align: top;\n",
       "    }\n",
       "\n",
       "    .dataframe thead th {\n",
       "        text-align: right;\n",
       "    }\n",
       "</style>\n",
       "<table border=\"1\" class=\"dataframe\">\n",
       "  <thead>\n",
       "    <tr style=\"text-align: right;\">\n",
       "      <th></th>\n",
       "      <th>Trip ID</th>\n",
       "      <th>Membership Type</th>\n",
       "      <th>Bicycle ID</th>\n",
       "      <th>Checkout Date</th>\n",
       "      <th>Checkout Time</th>\n",
       "      <th>Checkout Kiosk ID</th>\n",
       "      <th>Checkout Kiosk</th>\n",
       "      <th>Return Kiosk ID</th>\n",
       "      <th>Return Kiosk</th>\n",
       "      <th>Trip Duration Minutes</th>\n",
       "      <th>Month</th>\n",
       "      <th>Year</th>\n",
       "    </tr>\n",
       "  </thead>\n",
       "  <tbody>\n",
       "    <tr>\n",
       "      <th>0</th>\n",
       "      <td>9900334132</td>\n",
       "      <td>24-Hour Kiosk (Austin B-cycle)</td>\n",
       "      <td>839</td>\n",
       "      <td>12/22/2013</td>\n",
       "      <td>13:12:00</td>\n",
       "      <td>2495.0</td>\n",
       "      <td>4th &amp; Congress</td>\n",
       "      <td>2495</td>\n",
       "      <td>4th &amp; Congress</td>\n",
       "      <td>53</td>\n",
       "      <td>12.0</td>\n",
       "      <td>2013.0</td>\n",
       "    </tr>\n",
       "    <tr>\n",
       "      <th>1</th>\n",
       "      <td>9900334089</td>\n",
       "      <td>24-Hour Kiosk (Austin B-cycle)</td>\n",
       "      <td>283</td>\n",
       "      <td>12/22/2013</td>\n",
       "      <td>10:12:00</td>\n",
       "      <td>2501.0</td>\n",
       "      <td>5th &amp; Bowie</td>\n",
       "      <td>2495</td>\n",
       "      <td>4th &amp; Congress</td>\n",
       "      <td>9</td>\n",
       "      <td>12.0</td>\n",
       "      <td>2013.0</td>\n",
       "    </tr>\n",
       "  </tbody>\n",
       "</table>\n",
       "</div>"
      ],
      "text/plain": [
       "      Trip ID                 Membership Type Bicycle ID Checkout Date  \\\n",
       "0  9900334132  24-Hour Kiosk (Austin B-cycle)        839    12/22/2013   \n",
       "1  9900334089  24-Hour Kiosk (Austin B-cycle)        283    12/22/2013   \n",
       "\n",
       "  Checkout Time  Checkout Kiosk ID  Checkout Kiosk Return Kiosk ID  \\\n",
       "0      13:12:00             2495.0  4th & Congress            2495   \n",
       "1      10:12:00             2501.0     5th & Bowie            2495   \n",
       "\n",
       "     Return Kiosk  Trip Duration Minutes  Month    Year  \n",
       "0  4th & Congress                     53   12.0  2013.0  \n",
       "1  4th & Congress                      9   12.0  2013.0  "
      ]
     },
     "execution_count": 90,
     "metadata": {},
     "output_type": "execute_result"
    }
   ],
   "source": [
    "df = pd.read_csv('data3/austin-bikes.csv', low_memory=False)\n",
    "df.head(2)"
   ]
  },
  {
   "cell_type": "code",
   "execution_count": 93,
   "id": "4ca278e6",
   "metadata": {},
   "outputs": [
    {
     "name": "stdout",
     "output_type": "stream",
     "text": [
      "48 µs ± 595 ns per loop (mean ± std. dev. of 7 runs, 10,000 loops each)\n"
     ]
    }
   ],
   "source": [
    "%timeit df['Trip Duration Minutes'].max()"
   ]
  },
  {
   "cell_type": "code",
   "execution_count": 95,
   "id": "34ef5c43",
   "metadata": {},
   "outputs": [
    {
     "name": "stdout",
     "output_type": "stream",
     "text": [
      "9.53 µs ± 68.8 ns per loop (mean ± std. dev. of 7 runs, 100,000 loops each)\n"
     ]
    }
   ],
   "source": [
    "%timeit df['Trip Duration Minutes'].values.max()"
   ]
  },
  {
   "cell_type": "code",
   "execution_count": 94,
   "id": "a1f6f010",
   "metadata": {},
   "outputs": [
    {
     "name": "stdout",
     "output_type": "stream",
     "text": [
      "964 µs ± 9.81 µs per loop (mean ± std. dev. of 7 runs, 1,000 loops each)\n"
     ]
    }
   ],
   "source": [
    "%timeit max(df['Trip Duration Minutes'])"
   ]
  },
  {
   "cell_type": "code",
   "execution_count": 102,
   "id": "9a321fc1",
   "metadata": {},
   "outputs": [
    {
     "data": {
      "text/html": [
       "<div>\n",
       "<style scoped>\n",
       "    .dataframe tbody tr th:only-of-type {\n",
       "        vertical-align: middle;\n",
       "    }\n",
       "\n",
       "    .dataframe tbody tr th {\n",
       "        vertical-align: top;\n",
       "    }\n",
       "\n",
       "    .dataframe thead th {\n",
       "        text-align: right;\n",
       "    }\n",
       "</style>\n",
       "<table border=\"1\" class=\"dataframe\">\n",
       "  <thead>\n",
       "    <tr style=\"text-align: right;\">\n",
       "      <th></th>\n",
       "      <th>time</th>\n",
       "      <th>origin</th>\n",
       "      <th>method</th>\n",
       "      <th>path</th>\n",
       "      <th>status_code</th>\n",
       "      <th>size</th>\n",
       "    </tr>\n",
       "  </thead>\n",
       "  <tbody>\n",
       "    <tr>\n",
       "      <th>0</th>\n",
       "      <td>1995-08-01 00:00:01</td>\n",
       "      <td>in24.inetnebr.com</td>\n",
       "      <td>GET</td>\n",
       "      <td>/shuttle/missions/sts-68/news/sts-68-mcc-05.txt</td>\n",
       "      <td>200</td>\n",
       "      <td>1839</td>\n",
       "    </tr>\n",
       "    <tr>\n",
       "      <th>1</th>\n",
       "      <td>1995-08-01 00:00:07</td>\n",
       "      <td>uplherc.upl.com</td>\n",
       "      <td>GET</td>\n",
       "      <td>/</td>\n",
       "      <td>304</td>\n",
       "      <td>0</td>\n",
       "    </tr>\n",
       "    <tr>\n",
       "      <th>2</th>\n",
       "      <td>1995-08-01 00:00:08</td>\n",
       "      <td>uplherc.upl.com</td>\n",
       "      <td>GET</td>\n",
       "      <td>/images/ksclogo-medium.gif</td>\n",
       "      <td>304</td>\n",
       "      <td>0</td>\n",
       "    </tr>\n",
       "  </tbody>\n",
       "</table>\n",
       "</div>"
      ],
      "text/plain": [
       "                 time             origin method  \\\n",
       "0 1995-08-01 00:00:01  in24.inetnebr.com    GET   \n",
       "1 1995-08-01 00:00:07    uplherc.upl.com    GET   \n",
       "2 1995-08-01 00:00:08    uplherc.upl.com    GET   \n",
       "\n",
       "                                              path  status_code  size  \n",
       "0  /shuttle/missions/sts-68/news/sts-68-mcc-05.txt          200  1839  \n",
       "1                                                /          304     0  \n",
       "2                       /images/ksclogo-medium.gif          304     0  "
      ]
     },
     "execution_count": 102,
     "metadata": {},
     "output_type": "execute_result"
    }
   ],
   "source": [
    "df = pd.read_sql(sql1, conn)\n",
    "df.head(3)"
   ]
  },
  {
   "cell_type": "code",
   "execution_count": 103,
   "id": "b989a436",
   "metadata": {},
   "outputs": [],
   "source": [
    "df = pd.concat([df]*1000)"
   ]
  },
  {
   "cell_type": "code",
   "execution_count": 104,
   "id": "731b6195",
   "metadata": {},
   "outputs": [
    {
     "name": "stdout",
     "output_type": "stream",
     "text": [
      "701 ms ± 28.8 ms per loop (mean ± std. dev. of 7 runs, 1 loop each)\n"
     ]
    }
   ],
   "source": [
    "%timeit df[(df['method'] == 'GET') & df['status_code'] >=400]"
   ]
  },
  {
   "cell_type": "code",
   "execution_count": 106,
   "id": "9df8888f",
   "metadata": {},
   "outputs": [
    {
     "name": "stdout",
     "output_type": "stream",
     "text": [
      "462 ms ± 26.5 ms per loop (mean ± std. dev. of 7 runs, 1 loop each)\n"
     ]
    }
   ],
   "source": [
    "%timeit df.query('method == \"GET\" & status_code >= 400') #more efficient for large data and complex queries"
   ]
  },
  {
   "cell_type": "code",
   "execution_count": 108,
   "id": "4874a135",
   "metadata": {},
   "outputs": [
    {
     "data": {
      "text/html": [
       "<div>\n",
       "<style scoped>\n",
       "    .dataframe tbody tr th:only-of-type {\n",
       "        vertical-align: middle;\n",
       "    }\n",
       "\n",
       "    .dataframe tbody tr th {\n",
       "        vertical-align: top;\n",
       "    }\n",
       "\n",
       "    .dataframe thead th {\n",
       "        text-align: right;\n",
       "    }\n",
       "</style>\n",
       "<table border=\"1\" class=\"dataframe\">\n",
       "  <thead>\n",
       "    <tr style=\"text-align: right;\">\n",
       "      <th></th>\n",
       "      <th>VendorID</th>\n",
       "      <th>tpep_pickup_datetime</th>\n",
       "      <th>tpep_dropoff_datetime</th>\n",
       "      <th>passenger_count</th>\n",
       "      <th>trip_distance</th>\n",
       "      <th>RatecodeID</th>\n",
       "      <th>store_and_fwd_flag</th>\n",
       "      <th>PULocationID</th>\n",
       "      <th>DOLocationID</th>\n",
       "      <th>payment_type</th>\n",
       "      <th>fare_amount</th>\n",
       "      <th>extra</th>\n",
       "      <th>mta_tax</th>\n",
       "      <th>tip_amount</th>\n",
       "      <th>tolls_amount</th>\n",
       "      <th>improvement_surcharge</th>\n",
       "      <th>total_amount</th>\n",
       "    </tr>\n",
       "  </thead>\n",
       "  <tbody>\n",
       "    <tr>\n",
       "      <th>0</th>\n",
       "      <td>1</td>\n",
       "      <td>2018-05-01 00:13:56</td>\n",
       "      <td>2018-05-01 00:22:46</td>\n",
       "      <td>1</td>\n",
       "      <td>1.6</td>\n",
       "      <td>1</td>\n",
       "      <td>N</td>\n",
       "      <td>230</td>\n",
       "      <td>50</td>\n",
       "      <td>1</td>\n",
       "      <td>8.0</td>\n",
       "      <td>0.5</td>\n",
       "      <td>0.5</td>\n",
       "      <td>1.85</td>\n",
       "      <td>0.0</td>\n",
       "      <td>0.3</td>\n",
       "      <td>11.15</td>\n",
       "    </tr>\n",
       "    <tr>\n",
       "      <th>1</th>\n",
       "      <td>1</td>\n",
       "      <td>2018-05-01 00:23:26</td>\n",
       "      <td>2018-05-01 00:29:56</td>\n",
       "      <td>1</td>\n",
       "      <td>1.7</td>\n",
       "      <td>1</td>\n",
       "      <td>N</td>\n",
       "      <td>263</td>\n",
       "      <td>239</td>\n",
       "      <td>1</td>\n",
       "      <td>7.5</td>\n",
       "      <td>0.5</td>\n",
       "      <td>0.5</td>\n",
       "      <td>2.00</td>\n",
       "      <td>0.0</td>\n",
       "      <td>0.3</td>\n",
       "      <td>10.80</td>\n",
       "    </tr>\n",
       "    <tr>\n",
       "      <th>2</th>\n",
       "      <td>1</td>\n",
       "      <td>2018-05-01 00:36:23</td>\n",
       "      <td>2018-05-01 00:48:26</td>\n",
       "      <td>2</td>\n",
       "      <td>2.6</td>\n",
       "      <td>1</td>\n",
       "      <td>N</td>\n",
       "      <td>239</td>\n",
       "      <td>152</td>\n",
       "      <td>1</td>\n",
       "      <td>12.0</td>\n",
       "      <td>0.5</td>\n",
       "      <td>0.5</td>\n",
       "      <td>1.00</td>\n",
       "      <td>0.0</td>\n",
       "      <td>0.3</td>\n",
       "      <td>14.30</td>\n",
       "    </tr>\n",
       "    <tr>\n",
       "      <th>3</th>\n",
       "      <td>1</td>\n",
       "      <td>2018-05-01 00:26:12</td>\n",
       "      <td>2018-05-01 00:27:05</td>\n",
       "      <td>1</td>\n",
       "      <td>0.0</td>\n",
       "      <td>1</td>\n",
       "      <td>N</td>\n",
       "      <td>145</td>\n",
       "      <td>145</td>\n",
       "      <td>1</td>\n",
       "      <td>2.5</td>\n",
       "      <td>0.5</td>\n",
       "      <td>0.5</td>\n",
       "      <td>9.63</td>\n",
       "      <td>0.0</td>\n",
       "      <td>0.3</td>\n",
       "      <td>13.43</td>\n",
       "    </tr>\n",
       "  </tbody>\n",
       "</table>\n",
       "</div>"
      ],
      "text/plain": [
       "   VendorID tpep_pickup_datetime tpep_dropoff_datetime  passenger_count  \\\n",
       "0         1  2018-05-01 00:13:56   2018-05-01 00:22:46                1   \n",
       "1         1  2018-05-01 00:23:26   2018-05-01 00:29:56                1   \n",
       "2         1  2018-05-01 00:36:23   2018-05-01 00:48:26                2   \n",
       "3         1  2018-05-01 00:26:12   2018-05-01 00:27:05                1   \n",
       "\n",
       "   trip_distance  RatecodeID store_and_fwd_flag  PULocationID  DOLocationID  \\\n",
       "0            1.6           1                  N           230            50   \n",
       "1            1.7           1                  N           263           239   \n",
       "2            2.6           1                  N           239           152   \n",
       "3            0.0           1                  N           145           145   \n",
       "\n",
       "   payment_type  fare_amount  extra  mta_tax  tip_amount  tolls_amount  \\\n",
       "0             1          8.0    0.5      0.5        1.85           0.0   \n",
       "1             1          7.5    0.5      0.5        2.00           0.0   \n",
       "2             1         12.0    0.5      0.5        1.00           0.0   \n",
       "3             1          2.5    0.5      0.5        9.63           0.0   \n",
       "\n",
       "   improvement_surcharge  total_amount  \n",
       "0                    0.3         11.15  \n",
       "1                    0.3         10.80  \n",
       "2                    0.3         14.30  \n",
       "3                    0.3         13.43  "
      ]
     },
     "execution_count": 108,
     "metadata": {},
     "output_type": "execute_result"
    }
   ],
   "source": [
    "df = pd.read_csv('data3/taxi.csv')\n",
    "df.head(4)"
   ]
  },
  {
   "cell_type": "code",
   "execution_count": 109,
   "id": "225bf073",
   "metadata": {},
   "outputs": [
    {
     "data": {
      "text/html": [
       "<div>\n",
       "<style scoped>\n",
       "    .dataframe tbody tr th:only-of-type {\n",
       "        vertical-align: middle;\n",
       "    }\n",
       "\n",
       "    .dataframe tbody tr th {\n",
       "        vertical-align: top;\n",
       "    }\n",
       "\n",
       "    .dataframe thead th {\n",
       "        text-align: right;\n",
       "    }\n",
       "</style>\n",
       "<table border=\"1\" class=\"dataframe\">\n",
       "  <thead>\n",
       "    <tr style=\"text-align: right;\">\n",
       "      <th></th>\n",
       "      <th>id</th>\n",
       "      <th>Vendor</th>\n",
       "    </tr>\n",
       "  </thead>\n",
       "  <tbody>\n",
       "    <tr>\n",
       "      <th>0</th>\n",
       "      <td>1</td>\n",
       "      <td>Creative</td>\n",
       "    </tr>\n",
       "    <tr>\n",
       "      <th>1</th>\n",
       "      <td>2</td>\n",
       "      <td>VeriFone</td>\n",
       "    </tr>\n",
       "    <tr>\n",
       "      <th>2</th>\n",
       "      <td>4</td>\n",
       "      <td>BigApple</td>\n",
       "    </tr>\n",
       "  </tbody>\n",
       "</table>\n",
       "</div>"
      ],
      "text/plain": [
       "   id    Vendor\n",
       "0   1  Creative\n",
       "1   2  VeriFone\n",
       "2   4  BigApple"
      ]
     },
     "execution_count": 109,
     "metadata": {},
     "output_type": "execute_result"
    }
   ],
   "source": [
    "ndf = pd.DataFrame([\n",
    "                    (1, 'Creative'),\n",
    "                    (2, 'VeriFone'),\n",
    "                    (4, 'BigApple'),], columns=['id', 'Vendor'])\n",
    "ndf"
   ]
  },
  {
   "cell_type": "code",
   "execution_count": 111,
   "id": "8996b6fa",
   "metadata": {},
   "outputs": [
    {
     "name": "stdout",
     "output_type": "stream",
     "text": [
      "130 ms ± 4.6 ms per loop (mean ± std. dev. of 7 runs, 10 loops each)\n"
     ]
    }
   ],
   "source": [
    "%timeit pd.merge(df, ndf, left_on='VendorID', right_on = 'id', how = 'left')"
   ]
  },
  {
   "cell_type": "code",
   "execution_count": 112,
   "id": "eff4821d",
   "metadata": {},
   "outputs": [
    {
     "name": "stdout",
     "output_type": "stream",
     "text": [
      "74.1 ms ± 3.88 ms per loop (mean ± std. dev. of 7 runs, 10 loops each)\n"
     ]
    }
   ],
   "source": [
    "ndfi = ndf.set_index('id')\n",
    "%timeit pd.merge(df, ndfi, left_on='VendorID', right_index = True, how = 'left')"
   ]
  },
  {
   "attachments": {},
   "cell_type": "markdown",
   "id": "1244943b",
   "metadata": {},
   "source": [
    "\"\"\"What is the median trip duration in 2017, only in active kiosks?\n",
    "- Trip data in austin-bikes.csv.xz\n",
    "- Kiosk status data in austin-kiosk.csv\n",
    "\"\"\""
   ]
  },
  {
   "cell_type": "code",
   "execution_count": 132,
   "id": "b488eb0e",
   "metadata": {},
   "outputs": [],
   "source": [
    "bike_df = pd.read_csv('data3/austin-bikes (2).csv', low_memory = False)\n",
    "kiosk_df = pd.read_csv('https://raw.githubusercontent.com/LinkedInLearning/faster-pandas-2832038/main/Ch04/challenge/austin-kiosk.csv',\n",
    "index_col = 'Kiosk ID')"
   ]
  },
  {
   "cell_type": "code",
   "execution_count": 138,
   "id": "4fd5a556",
   "metadata": {},
   "outputs": [
    {
     "data": {
      "text/plain": [
       "16.0"
      ]
     },
     "execution_count": 138,
     "metadata": {},
     "output_type": "execute_result"
    }
   ],
   "source": [
    "df = pd.merge(bike_df, kiosk_df, left_on = 'Checkout Kiosk ID', right_index = True)\n",
    "active_2017 = df.query('`Kiosk Status` == \"active\" & `Year` ==  2017 & `Trip Duration Minutes` > 0')\n",
    "active_2017['Trip Duration Minutes'].median()"
   ]
  },
  {
   "attachments": {},
   "cell_type": "markdown",
   "id": "432fc22c",
   "metadata": {},
   "source": [
    "## Saving Memory "
   ]
  },
  {
   "cell_type": "code",
   "execution_count": 42,
   "id": "3676b95d",
   "metadata": {},
   "outputs": [
    {
     "data": {
      "text/html": [
       "<div>\n",
       "<style scoped>\n",
       "    .dataframe tbody tr th:only-of-type {\n",
       "        vertical-align: middle;\n",
       "    }\n",
       "\n",
       "    .dataframe tbody tr th {\n",
       "        vertical-align: top;\n",
       "    }\n",
       "\n",
       "    .dataframe thead th {\n",
       "        text-align: right;\n",
       "    }\n",
       "</style>\n",
       "<table border=\"1\" class=\"dataframe\">\n",
       "  <thead>\n",
       "    <tr style=\"text-align: right;\">\n",
       "      <th></th>\n",
       "      <th>VendorID</th>\n",
       "      <th>tpep_pickup_datetime</th>\n",
       "      <th>tpep_dropoff_datetime</th>\n",
       "      <th>passenger_count</th>\n",
       "      <th>trip_distance</th>\n",
       "      <th>RatecodeID</th>\n",
       "      <th>store_and_fwd_flag</th>\n",
       "      <th>PULocationID</th>\n",
       "      <th>DOLocationID</th>\n",
       "      <th>payment_type</th>\n",
       "      <th>fare_amount</th>\n",
       "      <th>extra</th>\n",
       "      <th>mta_tax</th>\n",
       "      <th>tip_amount</th>\n",
       "      <th>tolls_amount</th>\n",
       "      <th>improvement_surcharge</th>\n",
       "      <th>total_amount</th>\n",
       "    </tr>\n",
       "  </thead>\n",
       "  <tbody>\n",
       "    <tr>\n",
       "      <th>0</th>\n",
       "      <td>1</td>\n",
       "      <td>2018-05-01 00:13:56</td>\n",
       "      <td>2018-05-01 00:22:46</td>\n",
       "      <td>1</td>\n",
       "      <td>1.6</td>\n",
       "      <td>1</td>\n",
       "      <td>N</td>\n",
       "      <td>230</td>\n",
       "      <td>50</td>\n",
       "      <td>1</td>\n",
       "      <td>8.0</td>\n",
       "      <td>0.5</td>\n",
       "      <td>0.5</td>\n",
       "      <td>1.85</td>\n",
       "      <td>0.0</td>\n",
       "      <td>0.3</td>\n",
       "      <td>11.15</td>\n",
       "    </tr>\n",
       "    <tr>\n",
       "      <th>1</th>\n",
       "      <td>1</td>\n",
       "      <td>2018-05-01 00:23:26</td>\n",
       "      <td>2018-05-01 00:29:56</td>\n",
       "      <td>1</td>\n",
       "      <td>1.7</td>\n",
       "      <td>1</td>\n",
       "      <td>N</td>\n",
       "      <td>263</td>\n",
       "      <td>239</td>\n",
       "      <td>1</td>\n",
       "      <td>7.5</td>\n",
       "      <td>0.5</td>\n",
       "      <td>0.5</td>\n",
       "      <td>2.00</td>\n",
       "      <td>0.0</td>\n",
       "      <td>0.3</td>\n",
       "      <td>10.80</td>\n",
       "    </tr>\n",
       "    <tr>\n",
       "      <th>2</th>\n",
       "      <td>1</td>\n",
       "      <td>2018-05-01 00:36:23</td>\n",
       "      <td>2018-05-01 00:48:26</td>\n",
       "      <td>2</td>\n",
       "      <td>2.6</td>\n",
       "      <td>1</td>\n",
       "      <td>N</td>\n",
       "      <td>239</td>\n",
       "      <td>152</td>\n",
       "      <td>1</td>\n",
       "      <td>12.0</td>\n",
       "      <td>0.5</td>\n",
       "      <td>0.5</td>\n",
       "      <td>1.00</td>\n",
       "      <td>0.0</td>\n",
       "      <td>0.3</td>\n",
       "      <td>14.30</td>\n",
       "    </tr>\n",
       "  </tbody>\n",
       "</table>\n",
       "</div>"
      ],
      "text/plain": [
       "   VendorID tpep_pickup_datetime tpep_dropoff_datetime  passenger_count  \\\n",
       "0         1  2018-05-01 00:13:56   2018-05-01 00:22:46                1   \n",
       "1         1  2018-05-01 00:23:26   2018-05-01 00:29:56                1   \n",
       "2         1  2018-05-01 00:36:23   2018-05-01 00:48:26                2   \n",
       "\n",
       "   trip_distance  RatecodeID store_and_fwd_flag  PULocationID  DOLocationID  \\\n",
       "0            1.6           1                  N           230            50   \n",
       "1            1.7           1                  N           263           239   \n",
       "2            2.6           1                  N           239           152   \n",
       "\n",
       "   payment_type  fare_amount  extra  mta_tax  tip_amount  tolls_amount  \\\n",
       "0             1          8.0    0.5      0.5        1.85           0.0   \n",
       "1             1          7.5    0.5      0.5        2.00           0.0   \n",
       "2             1         12.0    0.5      0.5        1.00           0.0   \n",
       "\n",
       "   improvement_surcharge  total_amount  \n",
       "0                    0.3         11.15  \n",
       "1                    0.3         10.80  \n",
       "2                    0.3         14.30  "
      ]
     },
     "execution_count": 42,
     "metadata": {},
     "output_type": "execute_result"
    }
   ],
   "source": [
    "df = pd.read_csv('data3/taxi.csv')\n",
    "df.head(3)"
   ]
  },
  {
   "cell_type": "code",
   "execution_count": 43,
   "id": "7723c744",
   "metadata": {},
   "outputs": [
    {
     "data": {
      "text/plain": [
       "(499999, 17)"
      ]
     },
     "execution_count": 43,
     "metadata": {},
     "output_type": "execute_result"
    }
   ],
   "source": [
    "df.shape"
   ]
  },
  {
   "cell_type": "code",
   "execution_count": 19,
   "id": "962e75df",
   "metadata": {},
   "outputs": [
    {
     "data": {
      "text/plain": [
       "VendorID                   int64\n",
       "tpep_pickup_datetime      object\n",
       "tpep_dropoff_datetime     object\n",
       "passenger_count            int64\n",
       "trip_distance            float64\n",
       "RatecodeID                 int64\n",
       "store_and_fwd_flag        object\n",
       "PULocationID               int64\n",
       "DOLocationID               int64\n",
       "payment_type               int64\n",
       "fare_amount              float64\n",
       "extra                    float64\n",
       "mta_tax                  float64\n",
       "tip_amount               float64\n",
       "tolls_amount             float64\n",
       "improvement_surcharge    float64\n",
       "total_amount             float64\n",
       "dtype: object"
      ]
     },
     "execution_count": 19,
     "metadata": {},
     "output_type": "execute_result"
    }
   ],
   "source": [
    "df.dtypes"
   ]
  },
  {
   "cell_type": "code",
   "execution_count": 22,
   "id": "c76eccc8",
   "metadata": {},
   "outputs": [
    {
     "data": {
      "text/plain": [
       "(Index                     0.000122\n",
       " VendorID                  3.814690\n",
       " tpep_pickup_datetime     36.239552\n",
       " tpep_dropoff_datetime    36.239552\n",
       " passenger_count           3.814690\n",
       " trip_distance             3.814690\n",
       " RatecodeID                3.814690\n",
       " store_and_fwd_flag       27.656500\n",
       " PULocationID              3.814690\n",
       " DOLocationID              3.814690\n",
       " payment_type              3.814690\n",
       " fare_amount               3.814690\n",
       " extra                     3.814690\n",
       " mta_tax                   3.814690\n",
       " tip_amount                3.814690\n",
       " tolls_amount              3.814690\n",
       " improvement_surcharge     3.814690\n",
       " total_amount              3.814690\n",
       " dtype: float64,\n",
       " 153.54137992858887)"
      ]
     },
     "execution_count": 22,
     "metadata": {},
     "output_type": "execute_result"
    }
   ],
   "source": [
    "mb = 2**20\n",
    "df.memory_usage(deep = True)/mb, df.memory_usage(deep = True).sum()/mb"
   ]
  },
  {
   "cell_type": "code",
   "execution_count": 23,
   "id": "54be4a84",
   "metadata": {},
   "outputs": [
    {
     "data": {
      "text/plain": [
       "1.9074668884277344"
      ]
     },
     "execution_count": 23,
     "metadata": {},
     "output_type": "execute_result"
    }
   ],
   "source": [
    "ta32 = df['fare_amount'].astype('float32')\n",
    "ta32.memory_usage(deep =True)/mb"
   ]
  },
  {
   "attachments": {},
   "cell_type": "markdown",
   "id": "636cd44c",
   "metadata": {},
   "source": [
    "## Loading parts of Data"
   ]
  },
  {
   "cell_type": "code",
   "execution_count": 44,
   "id": "52ac18c7",
   "metadata": {},
   "outputs": [
    {
     "data": {
      "text/plain": [
       "<pandas.io.parsers.readers.TextFileReader at 0x13602bcdca0>"
      ]
     },
     "execution_count": 44,
     "metadata": {},
     "output_type": "execute_result"
    }
   ],
   "source": [
    "df = pd.read_csv('data3/taxi.csv', usecols= ['VendorID', 'total_amount'], chunksize = 100000)\n",
    "df # now it is not a dataframe but a textfile reader which is an iterator"
   ]
  },
  {
   "cell_type": "code",
   "execution_count": 45,
   "id": "a1f79527",
   "metadata": {},
   "outputs": [
    {
     "name": "stdout",
     "output_type": "stream",
     "text": [
      "100000\n",
      "100000\n",
      "100000\n",
      "100000\n",
      "99999\n"
     ]
    }
   ],
   "source": [
    "for df in pd.read_csv('data3/taxi.csv', usecols= ['VendorID', 'total_amount'], chunksize = 100000):\n",
    "    print(len(df))"
   ]
  },
  {
   "cell_type": "code",
   "execution_count": 47,
   "id": "18850a48",
   "metadata": {},
   "outputs": [
    {
     "data": {
      "text/plain": [
       "[          total_amount\n",
       " VendorID              \n",
       " 1            674987.76\n",
       " 2            914002.85,\n",
       "           total_amount\n",
       " VendorID              \n",
       " 1            754956.37\n",
       " 2            970064.08,\n",
       "           total_amount\n",
       " VendorID              \n",
       " 1            674117.09\n",
       " 2            961032.99,\n",
       "           total_amount\n",
       " VendorID              \n",
       " 1            676086.16\n",
       " 2            919557.04,\n",
       "           total_amount\n",
       " VendorID              \n",
       " 1            768881.73\n",
       " 2            989439.62\n",
       " 4                64.86]"
      ]
     },
     "execution_count": 47,
     "metadata": {},
     "output_type": "execute_result"
    }
   ],
   "source": [
    "revs = [] #calculating the revenue in parts\n",
    "\n",
    "for df in pd.read_csv('data3/taxi.csv', usecols= ['VendorID', 'total_amount'], chunksize = 100000):\n",
    "    rev = df.groupby('VendorID').sum()\n",
    "    revs.append(rev)\n",
    "revs"
   ]
  },
  {
   "cell_type": "code",
   "execution_count": 48,
   "id": "8bd2c37a",
   "metadata": {},
   "outputs": [
    {
     "data": {
      "text/html": [
       "<div>\n",
       "<style scoped>\n",
       "    .dataframe tbody tr th:only-of-type {\n",
       "        vertical-align: middle;\n",
       "    }\n",
       "\n",
       "    .dataframe tbody tr th {\n",
       "        vertical-align: top;\n",
       "    }\n",
       "\n",
       "    .dataframe thead th {\n",
       "        text-align: right;\n",
       "    }\n",
       "</style>\n",
       "<table border=\"1\" class=\"dataframe\">\n",
       "  <thead>\n",
       "    <tr style=\"text-align: right;\">\n",
       "      <th></th>\n",
       "      <th>total_amount</th>\n",
       "    </tr>\n",
       "    <tr>\n",
       "      <th>VendorID</th>\n",
       "      <th></th>\n",
       "    </tr>\n",
       "  </thead>\n",
       "  <tbody>\n",
       "    <tr>\n",
       "      <th>1</th>\n",
       "      <td>3549029.11</td>\n",
       "    </tr>\n",
       "    <tr>\n",
       "      <th>2</th>\n",
       "      <td>4754096.58</td>\n",
       "    </tr>\n",
       "    <tr>\n",
       "      <th>4</th>\n",
       "      <td>64.86</td>\n",
       "    </tr>\n",
       "  </tbody>\n",
       "</table>\n",
       "</div>"
      ],
      "text/plain": [
       "          total_amount\n",
       "VendorID              \n",
       "1           3549029.11\n",
       "2           4754096.58\n",
       "4                64.86"
      ]
     },
     "execution_count": 48,
     "metadata": {},
     "output_type": "execute_result"
    }
   ],
   "source": [
    "pd.concat(revs).groupby(level = 0).sum() #to concate all revenues(level = 0 to unstack it)"
   ]
  },
  {
   "attachments": {},
   "cell_type": "markdown",
   "id": "d2fb670d",
   "metadata": {},
   "source": [
    "\"\"\" Integers are more memory efficient and comparisions are faster than strings and\"\"\""
   ]
  },
  {
   "cell_type": "code",
   "execution_count": 50,
   "id": "5435b0a9",
   "metadata": {},
   "outputs": [
    {
     "data": {
      "text/plain": [
       "400000    2\n",
       "400001    1\n",
       "400002    1\n",
       "400003    2\n",
       "400004    2\n",
       "400005    2\n",
       "400006    2\n",
       "400007    2\n",
       "400008    2\n",
       "400009    1\n",
       "Name: VendorID, dtype: int64"
      ]
     },
     "execution_count": 50,
     "metadata": {},
     "output_type": "execute_result"
    }
   ],
   "source": [
    "df['VendorID'].head(10)"
   ]
  },
  {
   "cell_type": "code",
   "execution_count": 52,
   "id": "d803be82",
   "metadata": {},
   "outputs": [
    {
     "data": {
      "text/plain": [
       "400000    VeriFone\n",
       "400001    Creative\n",
       "400002    Creative\n",
       "Name: VendorID, dtype: object"
      ]
     },
     "execution_count": 52,
     "metadata": {},
     "output_type": "execute_result"
    }
   ],
   "source": [
    "vendors = df['VendorID'].map({1: 'Creative', 2: 'VeriFone', 3: 'BigApple'})\n",
    "vendors.head(3)"
   ]
  },
  {
   "cell_type": "code",
   "execution_count": 55,
   "id": "62153adc",
   "metadata": {},
   "outputs": [
    {
     "data": {
      "text/plain": [
       "472395    Creative\n",
       "462586    Creative\n",
       "461971    VeriFone\n",
       "Name: VendorID, dtype: category\n",
       "Categories (2, object): ['Creative', 'VeriFone']"
      ]
     },
     "execution_count": 55,
     "metadata": {},
     "output_type": "execute_result"
    }
   ],
   "source": [
    "cat_vendors = vendors.astype('category')\n",
    "cat_vendors.sample(3)"
   ]
  },
  {
   "cell_type": "code",
   "execution_count": 56,
   "id": "41bd05cf",
   "metadata": {},
   "outputs": [
    {
     "data": {
      "text/plain": [
       "64.7587402484831"
      ]
     },
     "execution_count": 56,
     "metadata": {},
     "output_type": "execute_result"
    }
   ],
   "source": [
    "vendors.memory_usage(deep = True)/ cat_vendors.memory_usage(deep = True)"
   ]
  },
  {
   "attachments": {},
   "cell_type": "markdown",
   "id": "3a986f18",
   "metadata": {},
   "source": [
    "\"\"\"Calculate the minimal and maximal distance driven from the data at\n",
    "    taxi.csv.xz\n",
    "Consume as little memory as possible and don't load more than 50,000 rows at a\n",
    "time.\n",
    "\"\"\""
   ]
  },
  {
   "cell_type": "code",
   "execution_count": 61,
   "id": "20d3444a",
   "metadata": {},
   "outputs": [
    {
     "name": "stdout",
     "output_type": "stream",
     "text": [
      "minimum and maximum distance 0.0, 111.1\n"
     ]
    }
   ],
   "source": [
    "min_dist, max_dist = float('inf'), float('-inf')\n",
    "dfs = pd.read_csv('data3/taxi.csv', usecols= ['trip_distance'], chunksize = 50000)\n",
    "for df in dfs:\n",
    "    desc = df['trip_distance'].describe()\n",
    "    min_dist = min(min_dist, desc['min'])\n",
    "    max_dist = max(max_dist, desc['max'])\n",
    "print(f'minimum and maximum distance {min_dist}, {max_dist}')"
   ]
  },
  {
   "attachments": {},
   "cell_type": "markdown",
   "id": "7d7d1f4b",
   "metadata": {},
   "source": [
    "## Fast Serialization"
   ]
  },
  {
   "cell_type": "code",
   "execution_count": 104,
   "id": "6227ef69",
   "metadata": {},
   "outputs": [],
   "source": [
    "import sqlite3\n",
    "conn = sqlite3.connect('data3/bikes.db')\n",
    "query = \" select name,sql from sqlite_master where type = 'table' \" #metadata table"
   ]
  },
  {
   "cell_type": "code",
   "execution_count": 81,
   "id": "a5861670",
   "metadata": {},
   "outputs": [
    {
     "name": "stdout",
     "output_type": "stream",
     "text": [
      "bike_rides\n",
      "CREATE TABLE bike_rides(\n",
      "  year INT,\n",
      "  month INT,\n",
      "  day INT,\n",
      "  trip_id INT,\n",
      "  bike_id INT,\n",
      "  duration INT\n",
      ")\n"
     ]
    }
   ],
   "source": [
    "for name, sql in conn.execute(query):\n",
    "    print(name) #name of table\n",
    "    print(sql)"
   ]
  },
  {
   "cell_type": "code",
   "execution_count": 82,
   "id": "84661d11",
   "metadata": {},
   "outputs": [
    {
     "data": {
      "text/plain": [
       "[(2017, 2016)]"
      ]
     },
     "execution_count": 82,
     "metadata": {},
     "output_type": "execute_result"
    }
   ],
   "source": [
    "conn.execute('SELECT MAX(YEAR), MIN(year) FROM bike_rides').fetchall()"
   ]
  },
  {
   "cell_type": "code",
   "execution_count": 84,
   "id": "beb81104",
   "metadata": {},
   "outputs": [
    {
     "data": {
      "text/html": [
       "<div>\n",
       "<style scoped>\n",
       "    .dataframe tbody tr th:only-of-type {\n",
       "        vertical-align: middle;\n",
       "    }\n",
       "\n",
       "    .dataframe tbody tr th {\n",
       "        vertical-align: top;\n",
       "    }\n",
       "\n",
       "    .dataframe thead th {\n",
       "        text-align: right;\n",
       "    }\n",
       "</style>\n",
       "<table border=\"1\" class=\"dataframe\">\n",
       "  <thead>\n",
       "    <tr style=\"text-align: right;\">\n",
       "      <th></th>\n",
       "      <th>year</th>\n",
       "      <th>month</th>\n",
       "      <th>duration</th>\n",
       "    </tr>\n",
       "  </thead>\n",
       "  <tbody>\n",
       "    <tr>\n",
       "      <th>0</th>\n",
       "      <td>2017</td>\n",
       "      <td>5</td>\n",
       "      <td>38</td>\n",
       "    </tr>\n",
       "    <tr>\n",
       "      <th>1</th>\n",
       "      <td>2017</td>\n",
       "      <td>5</td>\n",
       "      <td>21</td>\n",
       "    </tr>\n",
       "    <tr>\n",
       "      <th>2</th>\n",
       "      <td>2017</td>\n",
       "      <td>1</td>\n",
       "      <td>55</td>\n",
       "    </tr>\n",
       "    <tr>\n",
       "      <th>3</th>\n",
       "      <td>2017</td>\n",
       "      <td>5</td>\n",
       "      <td>25</td>\n",
       "    </tr>\n",
       "    <tr>\n",
       "      <th>4</th>\n",
       "      <td>2017</td>\n",
       "      <td>1</td>\n",
       "      <td>47</td>\n",
       "    </tr>\n",
       "  </tbody>\n",
       "</table>\n",
       "</div>"
      ],
      "text/plain": [
       "   year  month  duration\n",
       "0  2017      5        38\n",
       "1  2017      5        21\n",
       "2  2017      1        55\n",
       "3  2017      5        25\n",
       "4  2017      1        47"
      ]
     },
     "execution_count": 84,
     "metadata": {},
     "output_type": "execute_result"
    }
   ],
   "source": [
    "query2 = 'SELECT year, month, duration FROM bike_rides WHERE year== 2016 or 2017'\n",
    "dfq = pd.read_sql(query2, conn)\n",
    "dfq.head(5)"
   ]
  },
  {
   "cell_type": "code",
   "execution_count": 87,
   "id": "481558d7",
   "metadata": {},
   "outputs": [
    {
     "data": {
      "text/plain": [
       "year  month\n",
       "2016  1        14.0\n",
       "      2        15.0\n",
       "      3        14.0\n",
       "      5        15.0\n",
       "      6        14.0\n",
       "      7        15.0\n",
       "      8        13.0\n",
       "      9        15.0\n",
       "      10       16.0\n",
       "      11       14.0\n",
       "2017  1        14.0\n",
       "      2        16.0\n",
       "      3        14.0\n",
       "      4        18.0\n",
       "      5        18.0\n",
       "      6        16.0\n",
       "      7        16.0\n",
       "      8        13.0\n",
       "      9        17.0\n",
       "      10       16.0\n",
       "      11       18.0\n",
       "      12       16.0\n",
       "Name: duration, dtype: float64"
      ]
     },
     "execution_count": 87,
     "metadata": {},
     "output_type": "execute_result"
    }
   ],
   "source": [
    "dfq.groupby(['year', 'month'])['duration'].median()"
   ]
  },
  {
   "attachments": {},
   "cell_type": "markdown",
   "id": "60a165dd",
   "metadata": {},
   "source": [
    "### Optimizing with HDF5"
   ]
  },
  {
   "cell_type": "code",
   "execution_count": 90,
   "id": "9ede5a17",
   "metadata": {},
   "outputs": [
    {
     "data": {
      "text/plain": [
       "['/stocks']"
      ]
     },
     "execution_count": 90,
     "metadata": {},
     "output_type": "execute_result"
    }
   ],
   "source": [
    "store = pd.HDFStore('data3/stocks.h5')\n",
    "store.keys() #It contains single table with name stocks"
   ]
  },
  {
   "cell_type": "code",
   "execution_count": 100,
   "id": "de800f0a",
   "metadata": {},
   "outputs": [
    {
     "data": {
      "text/html": [
       "<div>\n",
       "<style scoped>\n",
       "    .dataframe tbody tr th:only-of-type {\n",
       "        vertical-align: middle;\n",
       "    }\n",
       "\n",
       "    .dataframe tbody tr th {\n",
       "        vertical-align: top;\n",
       "    }\n",
       "\n",
       "    .dataframe thead th {\n",
       "        text-align: right;\n",
       "    }\n",
       "</style>\n",
       "<table border=\"1\" class=\"dataframe\">\n",
       "  <thead>\n",
       "    <tr style=\"text-align: right;\">\n",
       "      <th></th>\n",
       "      <th>symbol</th>\n",
       "      <th>open</th>\n",
       "      <th>high</th>\n",
       "      <th>low</th>\n",
       "      <th>close</th>\n",
       "      <th>adj close</th>\n",
       "      <th>volume</th>\n",
       "    </tr>\n",
       "    <tr>\n",
       "      <th>date</th>\n",
       "      <th></th>\n",
       "      <th></th>\n",
       "      <th></th>\n",
       "      <th></th>\n",
       "      <th></th>\n",
       "      <th></th>\n",
       "      <th></th>\n",
       "    </tr>\n",
       "  </thead>\n",
       "  <tbody>\n",
       "    <tr>\n",
       "      <th>1962-01-02</th>\n",
       "      <td>IBM</td>\n",
       "      <td>7.713333</td>\n",
       "      <td>7.713333</td>\n",
       "      <td>7.626667</td>\n",
       "      <td>7.626667</td>\n",
       "      <td>0.609973</td>\n",
       "      <td>387200.0</td>\n",
       "    </tr>\n",
       "    <tr>\n",
       "      <th>1962-01-03</th>\n",
       "      <td>IBM</td>\n",
       "      <td>7.626667</td>\n",
       "      <td>7.693333</td>\n",
       "      <td>7.626667</td>\n",
       "      <td>7.693333</td>\n",
       "      <td>0.615304</td>\n",
       "      <td>288000.0</td>\n",
       "    </tr>\n",
       "    <tr>\n",
       "      <th>1962-01-04</th>\n",
       "      <td>IBM</td>\n",
       "      <td>7.693333</td>\n",
       "      <td>7.693333</td>\n",
       "      <td>7.613333</td>\n",
       "      <td>7.616667</td>\n",
       "      <td>0.609173</td>\n",
       "      <td>256000.0</td>\n",
       "    </tr>\n",
       "    <tr>\n",
       "      <th>1962-01-05</th>\n",
       "      <td>IBM</td>\n",
       "      <td>7.606667</td>\n",
       "      <td>7.606667</td>\n",
       "      <td>7.453333</td>\n",
       "      <td>7.466667</td>\n",
       "      <td>0.597176</td>\n",
       "      <td>363200.0</td>\n",
       "    </tr>\n",
       "    <tr>\n",
       "      <th>1962-01-08</th>\n",
       "      <td>IBM</td>\n",
       "      <td>7.460000</td>\n",
       "      <td>7.460000</td>\n",
       "      <td>7.266667</td>\n",
       "      <td>7.326667</td>\n",
       "      <td>0.585979</td>\n",
       "      <td>544000.0</td>\n",
       "    </tr>\n",
       "  </tbody>\n",
       "</table>\n",
       "</div>"
      ],
      "text/plain": [
       "           symbol      open      high       low     close  adj close    volume\n",
       "date                                                                          \n",
       "1962-01-02    IBM  7.713333  7.713333  7.626667  7.626667   0.609973  387200.0\n",
       "1962-01-03    IBM  7.626667  7.693333  7.626667  7.693333   0.615304  288000.0\n",
       "1962-01-04    IBM  7.693333  7.693333  7.613333  7.616667   0.609173  256000.0\n",
       "1962-01-05    IBM  7.606667  7.606667  7.453333  7.466667   0.597176  363200.0\n",
       "1962-01-08    IBM  7.460000  7.460000  7.266667  7.326667   0.585979  544000.0"
      ]
     },
     "execution_count": 100,
     "metadata": {},
     "output_type": "execute_result"
    }
   ],
   "source": [
    "df = store['stocks']\n",
    "df.head(5)"
   ]
  },
  {
   "cell_type": "code",
   "execution_count": 97,
   "id": "c2e11e87",
   "metadata": {},
   "outputs": [
    {
     "data": {
      "text/html": [
       "<div>\n",
       "<style scoped>\n",
       "    .dataframe tbody tr th:only-of-type {\n",
       "        vertical-align: middle;\n",
       "    }\n",
       "\n",
       "    .dataframe tbody tr th {\n",
       "        vertical-align: top;\n",
       "    }\n",
       "\n",
       "    .dataframe thead th {\n",
       "        text-align: right;\n",
       "    }\n",
       "</style>\n",
       "<table border=\"1\" class=\"dataframe\">\n",
       "  <thead>\n",
       "    <tr style=\"text-align: right;\">\n",
       "      <th></th>\n",
       "      <th>symbol</th>\n",
       "      <th>open</th>\n",
       "      <th>high</th>\n",
       "      <th>low</th>\n",
       "      <th>close</th>\n",
       "      <th>adj close</th>\n",
       "      <th>volume</th>\n",
       "    </tr>\n",
       "    <tr>\n",
       "      <th>date</th>\n",
       "      <th></th>\n",
       "      <th></th>\n",
       "      <th></th>\n",
       "      <th></th>\n",
       "      <th></th>\n",
       "      <th></th>\n",
       "      <th></th>\n",
       "    </tr>\n",
       "  </thead>\n",
       "  <tbody>\n",
       "    <tr>\n",
       "      <th>1962-01-02</th>\n",
       "      <td>IBM</td>\n",
       "      <td>7.713333</td>\n",
       "      <td>7.713333</td>\n",
       "      <td>7.626667</td>\n",
       "      <td>7.626667</td>\n",
       "      <td>0.609973</td>\n",
       "      <td>387200.0</td>\n",
       "    </tr>\n",
       "    <tr>\n",
       "      <th>1962-01-03</th>\n",
       "      <td>IBM</td>\n",
       "      <td>7.626667</td>\n",
       "      <td>7.693333</td>\n",
       "      <td>7.626667</td>\n",
       "      <td>7.693333</td>\n",
       "      <td>0.615304</td>\n",
       "      <td>288000.0</td>\n",
       "    </tr>\n",
       "    <tr>\n",
       "      <th>1962-01-04</th>\n",
       "      <td>IBM</td>\n",
       "      <td>7.693333</td>\n",
       "      <td>7.693333</td>\n",
       "      <td>7.613333</td>\n",
       "      <td>7.616667</td>\n",
       "      <td>0.609173</td>\n",
       "      <td>256000.0</td>\n",
       "    </tr>\n",
       "    <tr>\n",
       "      <th>1962-01-05</th>\n",
       "      <td>IBM</td>\n",
       "      <td>7.606667</td>\n",
       "      <td>7.606667</td>\n",
       "      <td>7.453333</td>\n",
       "      <td>7.466667</td>\n",
       "      <td>0.597176</td>\n",
       "      <td>363200.0</td>\n",
       "    </tr>\n",
       "  </tbody>\n",
       "</table>\n",
       "</div>"
      ],
      "text/plain": [
       "           symbol      open      high       low     close  adj close    volume\n",
       "date                                                                          \n",
       "1962-01-02    IBM  7.713333  7.713333  7.626667  7.626667   0.609973  387200.0\n",
       "1962-01-03    IBM  7.626667  7.693333  7.626667  7.693333   0.615304  288000.0\n",
       "1962-01-04    IBM  7.693333  7.693333  7.613333  7.616667   0.609173  256000.0\n",
       "1962-01-05    IBM  7.606667  7.606667  7.453333  7.466667   0.597176  363200.0"
      ]
     },
     "execution_count": 97,
     "metadata": {},
     "output_type": "execute_result"
    }
   ],
   "source": [
    "store.select('stocks', stop = 4) #to look some of the data before loading all to memory"
   ]
  },
  {
   "cell_type": "code",
   "execution_count": 98,
   "id": "d363f817",
   "metadata": {},
   "outputs": [
    {
     "data": {
      "text/plain": [
       "88839"
      ]
     },
     "execution_count": 98,
     "metadata": {},
     "output_type": "execute_result"
    }
   ],
   "source": [
    "s = store.get_storer('stocks') \n",
    "s.nrows"
   ]
  },
  {
   "cell_type": "code",
   "execution_count": 103,
   "id": "ceef14d6",
   "metadata": {},
   "outputs": [
    {
     "data": {
      "text/plain": [
       "(Timestamp('2010-01-04 00:00:00'),\n",
       " Timestamp('2011-12-30 00:00:00'),\n",
       " Index(['symbol', 'close', 'volume'], dtype='object'))"
      ]
     },
     "execution_count": 103,
     "metadata": {},
     "output_type": "execute_result"
    }
   ],
   "source": [
    "df = store.select('stocks', '(index >= \"2010\") & (index < \"2012\")', columns = ['symbol', 'close', 'volume'])\n",
    "df.index.min(), df.index.max(), df.columns"
   ]
  },
  {
   "attachments": {},
   "cell_type": "markdown",
   "id": "eeb837c7",
   "metadata": {},
   "source": [
    "\"\"\"Using \"bikes.db\", find the 5 bikes (using \"bike_id\") that has the biggest\n",
    "90% quantile of ride duration in the first quarter of 2017.\n",
    "\"\"\""
   ]
  },
  {
   "cell_type": "code",
   "execution_count": 108,
   "id": "96cf6f8c",
   "metadata": {},
   "outputs": [
    {
     "name": "stdout",
     "output_type": "stream",
     "text": [
      "bike_id\n",
      "393    124.6\n",
      "68     111.2\n",
      "832    100.6\n",
      "326     96.6\n",
      "429     96.0\n",
      "Name: duration, dtype: float64\n"
     ]
    }
   ],
   "source": [
    "query3 = \" select bike_id, duration from bike_rides WHERE year==2017 AND month < 4 \"\n",
    "dfsql = pd.read_sql(query3, conn)\n",
    "out = dfsql.groupby('bike_id')['duration'].quantile(0.9)\n",
    "print(out.sort_values(ascending = False)[:5])"
   ]
  },
  {
   "attachments": {},
   "cell_type": "markdown",
   "id": "a7e375dd",
   "metadata": {},
   "source": [
    "## Numba and Cython"
   ]
  },
  {
   "cell_type": "code",
   "execution_count": 2,
   "id": "ad4051a0",
   "metadata": {},
   "outputs": [],
   "source": [
    "def add(a,b):\n",
    "    return a+b"
   ]
  },
  {
   "cell_type": "code",
   "execution_count": 9,
   "id": "15d7cec7",
   "metadata": {},
   "outputs": [
    {
     "name": "stdout",
     "output_type": "stream",
     "text": [
      "  2           0 LOAD_FAST                0 (a)\n",
      "              2 LOAD_FAST                1 (b)\n",
      "              4 BINARY_ADD\n",
      "              6 RETURN_VALUE\n"
     ]
    }
   ],
   "source": [
    "import dis\n",
    "dis.dis(add)"
   ]
  },
  {
   "cell_type": "code",
   "execution_count": null,
   "id": "607fab32",
   "metadata": {},
   "outputs": [],
   "source": [
    "import numba\n",
    "@numba.jit\n",
    "def jit_add(a,b):\n",
    "    return a+b"
   ]
  },
  {
   "cell_type": "code",
   "execution_count": null,
   "id": "c1513329",
   "metadata": {},
   "outputs": [],
   "source": [
    "type(jit_add) #returns a numba CPU Dispatcher \n",
    "jit_add.overloads() # returns the dictionary between types and compiled code\n",
    "jit_add(1,2)\n",
    "jit_add.overloads.keys()\n",
    "fn = jit_add.get_overload((numba.int64, numba.int64)) #returns a compiled code\n",
    "fn(2,3)\n",
    "jit_add(1.0, 2.0)\n",
    "jit_add.overloads.keys()"
   ]
  },
  {
   "cell_type": "code",
   "execution_count": 26,
   "id": "c620644b",
   "metadata": {},
   "outputs": [],
   "source": [
    "s = pd.Series(np.random.randint( -3, 200, 1000000))\n",
    "def relu(num):\n",
    "    if num < 0:\n",
    "        return 0\n",
    "    return num"
   ]
  },
  {
   "cell_type": "code",
   "execution_count": 28,
   "id": "3c8c3954",
   "metadata": {},
   "outputs": [
    {
     "name": "stdout",
     "output_type": "stream",
     "text": [
      "302 ms ± 6.11 ms per loop (mean ± std. dev. of 7 runs, 1 loop each)\n"
     ]
    }
   ],
   "source": [
    "%timeit s.apply(relu) #slower than numba"
   ]
  },
  {
   "cell_type": "code",
   "execution_count": null,
   "id": "0e904c93",
   "metadata": {},
   "outputs": [],
   "source": [
    "@numba.vectorize\n",
    "def vect_relu(num):\n",
    "    if num <0:\n",
    "        return 0\n",
    "    return num"
   ]
  },
  {
   "cell_type": "code",
   "execution_count": null,
   "id": "534113e6",
   "metadata": {},
   "outputs": [],
   "source": [
    "%timeit vect_relu(s) #faster"
   ]
  },
  {
   "cell_type": "code",
   "execution_count": null,
   "id": "5ef739ae",
   "metadata": {},
   "outputs": [],
   "source": [
    "#Python code in relu1.py\n",
    "\n",
    "def relu(num):\n",
    "    if num <0:\n",
    "        return 0\n",
    "    return num"
   ]
  },
  {
   "cell_type": "code",
   "execution_count": null,
   "id": "f9c22103",
   "metadata": {},
   "outputs": [],
   "source": [
    "#cython: language_level=3 in relu.pyx\n",
    "def relu(double num):\n",
    "    if num <0:\n",
    "        return 0\n",
    "    return num"
   ]
  },
  {
   "cell_type": "code",
   "execution_count": null,
   "id": "76f6dca8",
   "metadata": {},
   "outputs": [],
   "source": [
    "#cython magic \n",
    "\n",
    "%load_ext cython\n",
    "\n",
    "%%cython\n",
    "def cy_relu(double n):\n",
    "    if n < 0:\n",
    "        return 0\n",
    "    return n"
   ]
  },
  {
   "cell_type": "code",
   "execution_count": null,
   "id": "66be3340",
   "metadata": {},
   "outputs": [],
   "source": [
    "%timeit cy_relu(-3)"
   ]
  },
  {
   "attachments": {},
   "cell_type": "markdown",
   "id": "7f077255",
   "metadata": {},
   "source": [
    "## Alternative DataFrames"
   ]
  },
  {
   "cell_type": "code",
   "execution_count": null,
   "id": "038fb65d",
   "metadata": {},
   "outputs": [],
   "source": [
    "#Dask\n",
    "#Vaex\n",
    "#Modin\n",
    "#Rapids"
   ]
  },
  {
   "cell_type": "code",
   "execution_count": null,
   "id": "7e097c3c",
   "metadata": {},
   "outputs": [],
   "source": []
  },
  {
   "cell_type": "code",
   "execution_count": null,
   "id": "22da1058",
   "metadata": {},
   "outputs": [],
   "source": []
  }
 ],
 "metadata": {
  "kernelspec": {
   "display_name": "testing",
   "language": "python",
   "name": "python3"
  },
  "language_info": {
   "codemirror_mode": {
    "name": "ipython",
    "version": 3
   },
   "file_extension": ".py",
   "mimetype": "text/x-python",
   "name": "python",
   "nbconvert_exporter": "python",
   "pygments_lexer": "ipython3",
   "version": "3.8.15 (default, Nov 24 2022, 14:38:14) [MSC v.1916 64 bit (AMD64)]"
  },
  "vscode": {
   "interpreter": {
    "hash": "d5aea8af25b13cd6a059c763fd78d1ac974c50389cc5381d08508405dbe2fc71"
   }
  }
 },
 "nbformat": 4,
 "nbformat_minor": 5
}
